{
  "nbformat": 4,
  "nbformat_minor": 0,
  "metadata": {
    "colab": {
      "name": "CRITICAL GOD'S RULE-6.ipynb",
      "version": "0.3.2",
      "provenance": [],
      "collapsed_sections": []
    },
    "kernelspec": {
      "name": "python3",
      "display_name": "Python 3"
    },
    "accelerator": "GPU"
  },
  "cells": [
    {
      "metadata": {
        "id": "FHtQa996dOkM",
        "colab_type": "code",
        "colab": {}
      },
      "cell_type": "code",
      "source": [
        "from __future__ import print_function, division\n",
        "import tensorflow as tf\n",
        "import numpy as np\n"
      ],
      "execution_count": 0,
      "outputs": []
    },
    {
      "metadata": {
        "id": "61UIQVMjehg3",
        "colab_type": "code",
        "colab": {}
      },
      "cell_type": "code",
      "source": [
        "batch_size=5\n",
        "bp_length=15\n",
        "total_size=50000\n",
        "actv_layer=4\n",
        "echoz=3\n",
        "num_epoch=100\n",
        "moves=total_size//batch_size//bp_length"
      ],
      "execution_count": 0,
      "outputs": []
    },
    {
      "metadata": {
        "id": "VkmkocGifOPs",
        "colab_type": "code",
        "colab": {}
      },
      "cell_type": "code",
      "source": [
        "def generate():\n",
        "  x=np.array(np.random.choice(2,total_size,[0.5,0.5]))\n",
        "  y=np.roll(x,echoz)\n",
        "  x=x.reshape(batch_size,-1)\n",
        "  y=y.reshape(batch_size,-1)\n",
        "  return x,y"
      ],
      "execution_count": 0,
      "outputs": []
    },
    {
      "metadata": {
        "id": "SVuULZj8iJBW",
        "colab_type": "code",
        "colab": {}
      },
      "cell_type": "code",
      "source": [
        "x_place=tf.placeholder(tf.float32,shape=[batch_size,bp_length])\n",
        "y_place=tf.placeholder(tf.int32,shape=[batch_size,bp_length])\n",
        "actv_zero=tf.placeholder(tf.float32,shape=[batch_size,actv_layer])"
      ],
      "execution_count": 0,
      "outputs": []
    },
    {
      "metadata": {
        "id": "_dHR0Dk1kplw",
        "colab_type": "code",
        "colab": {}
      },
      "cell_type": "code",
      "source": [
        "x_list=tf.unstack(x_place,axis=1)\n",
        "y_list=tf.unstack(y_place,axis=1)"
      ],
      "execution_count": 0,
      "outputs": []
    },
    {
      "metadata": {
        "id": "olGwJgsom2PJ",
        "colab_type": "code",
        "colab": {}
      },
      "cell_type": "code",
      "source": [
        "W=tf.Variable(np.random.rand(actv_layer+1,actv_layer),dtype=tf.float32)\n",
        "b=tf.Variable(np.zeros((1,actv_layer)),dtype=tf.float32)\n",
        "Wy=tf.Variable(np.random.rand(actv_layer,2),dtype=tf.float32)\n",
        "by=tf.Variable(np.zeros((1,2)),dtype=tf.float32)"
      ],
      "execution_count": 0,
      "outputs": []
    },
    {
      "metadata": {
        "id": "st7n-nfWvO1M",
        "colab_type": "code",
        "colab": {}
      },
      "cell_type": "code",
      "source": [
        "states=[]\n",
        "a_prev=actv_zero\n",
        "for x_i in x_list:\n",
        "  x_i=tf.reshape(x_i,[batch_size,1])\n",
        "  \n",
        "  conc_mat=tf.concat([a_prev,x_i],1)\n",
        "  a_prev=tf.tanh(tf.matmul(conc_mat,W)+b)\n",
        "\n",
        "  states.append(a_prev)\n",
        "  "
      ],
      "execution_count": 0,
      "outputs": []
    },
    {
      "metadata": {
        "id": "BXobw-a-1_tG",
        "colab_type": "code",
        "colab": {
          "base_uri": "https://localhost:8080/",
          "height": 34
        },
        "outputId": "9e01ab27-157b-4eb4-e468-2c6bd0d534c7"
      },
      "cell_type": "code",
      "source": [
        "losses=[]\n",
        "logit_series=[tf.matmul(i,Wy)+by for i in states]\n",
        "print(logit_series[1])\n",
        "predictions_series = [tf.nn.softmax(logits) for logits in logit_series]\n"
      ],
      "execution_count": 109,
      "outputs": [
        {
          "output_type": "stream",
          "text": [
            "Tensor(\"add_226:0\", shape=(5, 2), dtype=float32)\n"
          ],
          "name": "stdout"
        }
      ]
    },
    {
      "metadata": {
        "id": "GF2-2EkJ5V0m",
        "colab_type": "code",
        "colab": {}
      },
      "cell_type": "code",
      "source": [
        "losses = [tf.nn.sparse_softmax_cross_entropy_with_logits(logits=logits, labels=labels) for logits, labels in zip(logit_series,y_list)]\n",
        "total_loss = tf.reduce_mean(losses)\n",
        "train_step=tf.train.AdagradOptimizer(0.3).minimize(total_loss)"
      ],
      "execution_count": 0,
      "outputs": []
    },
    {
      "metadata": {
        "id": "kjHZOx1OHaoo",
        "colab_type": "code",
        "colab": {
          "base_uri": "https://localhost:8080/",
          "height": 1723
        },
        "outputId": "96521be0-8fa5-4140-c652-d5c9362909e9"
      },
      "cell_type": "code",
      "source": [
        "u=[]\n",
        "v=[]\n",
        "with tf.Session() as ss:\n",
        "  ss.run(tf.initialize_all_variables())\n",
        "  for i in range(100):\n",
        "    x,y=generate()\n",
        "    cv=0\n",
        "    for j in range(moves):\n",
        "      zcurrent_state = np.zeros((batch_size, actv_layer))\n",
        "      x_part=x[:,j*15:j*15+15]\n",
        "      y_part=y[:,j*15:j*15+15]\n",
        "      if i==99:\n",
        "        u.append(np.transpose(y_part))\n",
        "      ztotal_loss,ztrain_step,zpredictions_series = ss.run([total_loss, train_step, predictions_series],\n",
        "                feed_dict={\n",
        "                    x_place:x_part,\n",
        "                    y_place:y_part,\n",
        "                    actv_zero:zcurrent_state\n",
        "                })\n",
        "      uv=np.array(zpredictions_series)\n",
        "      if(i==99):\n",
        "        v.append(zpredictions_series)\n",
        "      cv=cv+ztotal_loss\n",
        "    print(cv)\n",
        "\n",
        "    \n",
        "\n",
        "    "
      ],
      "execution_count": 122,
      "outputs": [
        {
          "output_type": "stream",
          "text": [
            "166.9286546483636\n",
            "97.97316148132086\n",
            "96.02315930277109\n",
            "95.61830735951662\n",
            "95.11878239363432\n",
            "94.66566024720669\n",
            "94.7995085567236\n",
            "94.40588743984699\n",
            "94.15945760905743\n",
            "94.17194329947233\n",
            "94.01839189976454\n",
            "94.04300516843796\n",
            "93.89521060138941\n",
            "93.90674435347319\n",
            "93.75739069283009\n",
            "93.86845623701811\n",
            "93.78618051111698\n",
            "93.67293950915337\n",
            "93.54048348218203\n",
            "93.70239320397377\n",
            "93.55353082716465\n",
            "93.5011474788189\n",
            "93.64015181362629\n",
            "93.47000878304243\n",
            "93.4304644241929\n",
            "93.43192621320486\n",
            "93.52527999132872\n",
            "93.42601530253887\n",
            "93.42790588736534\n",
            "93.3784706518054\n",
            "93.51636885106564\n",
            "93.41502905637026\n",
            "93.27764940261841\n",
            "93.18540201336145\n",
            "93.33367617428303\n",
            "93.31540787965059\n",
            "93.3102855682373\n",
            "93.28011790663004\n",
            "93.12283287197351\n",
            "93.32484246045351\n",
            "93.1877975165844\n",
            "93.21904353052378\n",
            "93.26283448934555\n",
            "93.03754805773497\n",
            "93.12886679172516\n",
            "93.08658631145954\n",
            "93.03435031324625\n",
            "93.22548373043537\n",
            "93.2087762504816\n",
            "93.26793533563614\n",
            "93.0840920433402\n",
            "93.07612191140652\n",
            "93.1217665746808\n",
            "93.02280638366938\n",
            "93.15648636221886\n",
            "93.00194756686687\n",
            "93.19725885987282\n",
            "93.15942600369453\n",
            "93.1031220331788\n",
            "93.00168446451426\n",
            "93.12488916516304\n",
            "92.98699803650379\n",
            "93.11614098399878\n",
            "92.93334321677685\n",
            "93.03973866254091\n",
            "93.05960230529308\n",
            "93.0702987909317\n",
            "93.0068099051714\n",
            "93.03298218548298\n",
            "93.06860436499119\n",
            "92.92431600391865\n",
            "92.97181484848261\n",
            "93.084667339921\n",
            "93.04245734214783\n",
            "93.02958961576223\n",
            "92.95968224108219\n",
            "92.96097296476364\n",
            "92.99186180531979\n",
            "92.85646279156208\n",
            "92.85946648567915\n",
            "92.97009952366352\n",
            "92.86325943470001\n",
            "92.97042322903872\n",
            "92.8634835332632\n",
            "92.94035709649324\n",
            "93.00616782903671\n",
            "92.98657274246216\n",
            "93.01758989691734\n",
            "92.97337453067303\n",
            "92.8682966157794\n",
            "92.92136754840612\n",
            "92.91674391925335\n",
            "92.85020429641008\n",
            "92.96702598035336\n",
            "92.8257370069623\n",
            "92.92160901427269\n",
            "92.794248431921\n",
            "92.92864340543747\n",
            "92.90354888141155\n",
            "92.80449875444174\n"
          ],
          "name": "stdout"
        }
      ]
    },
    {
      "metadata": {
        "id": "TtzQyaZfYLqB",
        "colab_type": "code",
        "colab": {}
      },
      "cell_type": "code",
      "source": [
        "q=np.array(zpredictions_series)"
      ],
      "execution_count": 0,
      "outputs": []
    },
    {
      "metadata": {
        "id": "bRQL_e2K5Stz",
        "colab_type": "code",
        "colab": {}
      },
      "cell_type": "code",
      "source": [
        "lv=np.argmax(q,axis=2)"
      ],
      "execution_count": 0,
      "outputs": []
    },
    {
      "metadata": {
        "id": "pg_pR3rC6Taa",
        "colab_type": "code",
        "colab": {
          "base_uri": "https://localhost:8080/",
          "height": 34
        },
        "outputId": "ebd96618-a4b2-48a8-b062-dd3fbc1e9e42"
      },
      "cell_type": "code",
      "source": [
        "q.shape"
      ],
      "execution_count": 124,
      "outputs": [
        {
          "output_type": "execute_result",
          "data": {
            "text/plain": [
              "(15, 5, 2)"
            ]
          },
          "metadata": {
            "tags": []
          },
          "execution_count": 124
        }
      ]
    },
    {
      "metadata": {
        "id": "ZDljaqTRu5aq",
        "colab_type": "code",
        "colab": {
          "base_uri": "https://localhost:8080/",
          "height": 102
        },
        "outputId": "83aa32b7-040d-4b63-8702-5a9c9880f0a4"
      },
      "cell_type": "code",
      "source": [
        "q[1]"
      ],
      "execution_count": 49,
      "outputs": [
        {
          "output_type": "execute_result",
          "data": {
            "text/plain": [
              "array([[0.4291376 , 0.5708624 ],\n",
              "       [0.4291376 , 0.5708624 ],\n",
              "       [0.33782446, 0.66217554],\n",
              "       [0.37495008, 0.6250499 ],\n",
              "       [0.4291376 , 0.5708624 ]], dtype=float32)"
            ]
          },
          "metadata": {
            "tags": []
          },
          "execution_count": 49
        }
      ]
    },
    {
      "metadata": {
        "id": "DIgc7OvZvKpL",
        "colab_type": "code",
        "colab": {
          "base_uri": "https://localhost:8080/",
          "height": 34
        },
        "outputId": "ba130aa1-d008-4b59-accc-c65b57e8b594"
      },
      "cell_type": "code",
      "source": [
        "lv[1]"
      ],
      "execution_count": 50,
      "outputs": [
        {
          "output_type": "execute_result",
          "data": {
            "text/plain": [
              "array([1, 1, 1, 1, 1])"
            ]
          },
          "metadata": {
            "tags": []
          },
          "execution_count": 50
        }
      ]
    },
    {
      "metadata": {
        "id": "QP_0TkDDFcBo",
        "colab_type": "code",
        "colab": {}
      },
      "cell_type": "code",
      "source": [
        "a1=np.array(u)"
      ],
      "execution_count": 0,
      "outputs": []
    },
    {
      "metadata": {
        "id": "iBGA7uKTHDkn",
        "colab_type": "code",
        "colab": {}
      },
      "cell_type": "code",
      "source": [
        "a2=np.array(np.argmax(v,axis=3))"
      ],
      "execution_count": 0,
      "outputs": []
    },
    {
      "metadata": {
        "id": "EH4xId68VfTs",
        "colab_type": "code",
        "colab": {
          "base_uri": "https://localhost:8080/",
          "height": 34
        },
        "outputId": "11418bbf-0eb0-47d7-f15e-5f99b469b168"
      },
      "cell_type": "code",
      "source": [
        "a1.shape"
      ],
      "execution_count": 127,
      "outputs": [
        {
          "output_type": "execute_result",
          "data": {
            "text/plain": [
              "(666, 15, 5)"
            ]
          },
          "metadata": {
            "tags": []
          },
          "execution_count": 127
        }
      ]
    },
    {
      "metadata": {
        "id": "D1tWKdwcRh-G",
        "colab_type": "code",
        "colab": {}
      },
      "cell_type": "code",
      "source": [
        "zz=np.sum(abs(np.subtract(a1,a2)))"
      ],
      "execution_count": 0,
      "outputs": []
    },
    {
      "metadata": {
        "id": "geRcwIJOR3_2",
        "colab_type": "code",
        "colab": {
          "base_uri": "https://localhost:8080/",
          "height": 34
        },
        "outputId": "febab57e-5c80-4448-dac2-898926f22cd9"
      },
      "cell_type": "code",
      "source": [
        "Failaccuracy=zz/500\n",
        "print(100-Failaccuracy)"
      ],
      "execution_count": 134,
      "outputs": [
        {
          "output_type": "stream",
          "text": [
            "90.078\n"
          ],
          "name": "stdout"
        }
      ]
    }
  ]
}
