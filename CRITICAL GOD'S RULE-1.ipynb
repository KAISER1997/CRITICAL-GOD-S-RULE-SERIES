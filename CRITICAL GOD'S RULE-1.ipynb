{
 "cells": [
  {
   "cell_type": "code",
   "execution_count": 72,
   "metadata": {},
   "outputs": [
    {
     "name": "stderr",
     "output_type": "stream",
     "text": [
      "Using TensorFlow backend.\n"
     ]
    }
   ],
   "source": [
    "import tensorflow as tf\n",
    "import numpy as np\n",
    "import matplotlib.pyplot as plt\n",
    "%matplotlib inline\n",
    "reuse=tf.AUTO_REUSE\n",
    "import keras"
   ]
  },
  {
   "cell_type": "code",
   "execution_count": 65,
   "metadata": {},
   "outputs": [
    {
     "name": "stdout",
     "output_type": "stream",
     "text": [
      "(3, 1)\n"
     ]
    }
   ],
   "source": [
    "coef=np.array([[1],[-10],[25]])\n",
    "print(coef.shape)"
   ]
  },
  {
   "cell_type": "code",
   "execution_count": 66,
   "metadata": {
    "collapsed": true
   },
   "outputs": [],
   "source": [
    "w=tf.Variable(0,dtype=tf.float32)"
   ]
  },
  {
   "cell_type": "code",
   "execution_count": 67,
   "metadata": {
    "collapsed": true
   },
   "outputs": [],
   "source": [
    "x=tf.placeholder(tf.float32,shape=(3,1))"
   ]
  },
  {
   "cell_type": "code",
   "execution_count": 68,
   "metadata": {
    "collapsed": true
   },
   "outputs": [],
   "source": [
    "cost=x[0][0]*w**2+x[1][0]*w+x[2][0]"
   ]
  },
  {
   "cell_type": "code",
   "execution_count": null,
   "metadata": {
    "collapsed": true
   },
   "outputs": [],
   "source": [
    " "
   ]
  },
  {
   "cell_type": "code",
   "execution_count": 69,
   "metadata": {
    "collapsed": true
   },
   "outputs": [],
   "source": [
    "train=tf.train.GradientDescentOptimizer(0.01).minimize(cost)"
   ]
  },
  {
   "cell_type": "code",
   "execution_count": 70,
   "metadata": {
    "collapsed": true
   },
   "outputs": [],
   "source": [
    " \n",
    "\n",
    "ss = tf.Session()\n",
    "ss.run(tf.global_variables_initializer())\n",
    "for i in range(2000):\n",
    "    ss.run(train,feed_dict={x:coef})"
   ]
  },
  {
   "cell_type": "code",
   "execution_count": 71,
   "metadata": {},
   "outputs": [
    {
     "data": {
      "text/plain": [
       "4.9999886"
      ]
     },
     "execution_count": 71,
     "metadata": {},
     "output_type": "execute_result"
    }
   ],
   "source": [
    "ss.run(w)"
   ]
  },
  {
   "cell_type": "code",
   "execution_count": 73,
   "metadata": {
    "collapsed": true
   },
   "outputs": [],
   "source": [
    "from keras.datasets import mnist"
   ]
  },
  {
   "cell_type": "code",
   "execution_count": 98,
   "metadata": {},
   "outputs": [
    {
     "name": "stdout",
     "output_type": "stream",
     "text": [
      "(60000, 28, 28)\n"
     ]
    }
   ],
   "source": [
    "(x_train, y_train), (x_test, y_test) = mnist.load_data()\n",
    "print(x_train.shape)"
   ]
  },
  {
   "cell_type": "code",
   "execution_count": 86,
   "metadata": {},
   "outputs": [],
   "source": [
    "q=x_train[2]"
   ]
  },
  {
   "cell_type": "code",
   "execution_count": 87,
   "metadata": {},
   "outputs": [
    {
     "data": {
      "text/plain": [
       "<matplotlib.image.AxesImage at 0x7f3fb39adef0>"
      ]
     },
     "execution_count": 87,
     "metadata": {},
     "output_type": "execute_result"
    },
    {
     "data": {
      "image/png": "[encoded data removed]",
      "text/plain": [
       "<matplotlib.figure.Figure at 0x7f3fc4054828>"
      ]
     },
     "metadata": {},
     "output_type": "display_data"
    }
   ],
   "source": [
    "plt.imshow(q)"
   ]
  },
  {
   "cell_type": "code",
   "execution_count": null,
   "metadata": {
    "collapsed": true
   },
   "outputs": [],
   "source": []
  },
  {
   "cell_type": "code",
   "execution_count": 139,
   "metadata": {},
   "outputs": [],
   "source": [
    "def Initialize():    \n",
    "    tf.set_random_seed(1)                   \n",
    "    with tf.variable_scope(tf.get_variable_scope(),reuse=tf.AUTO_REUSE) as scope:\n",
    "        \n",
    "        W1 = tf.get_variable(\"W1\", [300,784], initializer = tf.contrib.layers.xavier_initializer(seed = 1))\n",
    "        b1 = tf.get_variable(\"b1\", [300,1], initializer = tf.zeros_initializer())\n",
    "        W2 = tf.get_variable(\"W2\", [100,300], initializer = tf.contrib.layers.xavier_initializer(seed = 1))\n",
    "        b2 = tf.get_variable(\"b2\", [100,1], initializer = tf.zeros_initializer())\n",
    "        W3 = tf.get_variable(\"W3\", [10,100], initializer = tf.contrib.layers.xavier_initializer(seed = 1))\n",
    "        b3 = tf.get_variable(\"b3\", [10,1], initializer = tf.zeros_initializer())\n",
    "    \n",
    "\n",
    "    parameters = {\"W1\": W1,\n",
    "                  \"b1\": b1,\n",
    "                  \"W2\": W2,\n",
    "                  \"b2\": b2,\n",
    "                  \"W3\": W3,\n",
    "                  \"b3\": b3}\n",
    "    \n",
    "    return parameters\n",
    "        "
   ]
  },
  {
   "cell_type": "code",
   "execution_count": 149,
   "metadata": {},
   "outputs": [],
   "source": [
    "def costv(Z3,Y):\n",
    "    loss=tf.reduce_mean(tf.nn.softmax_cross_entropy_with_logits(logits=tf.transpose(Z3),labels=tf.transpose(Y)))\n",
    "    return(loss)"
   ]
  },
  {
   "cell_type": "code",
   "execution_count": null,
   "metadata": {
    "collapsed": true
   },
   "outputs": [],
   "source": []
  },
  {
   "cell_type": "code",
   "execution_count": 141,
   "metadata": {},
   "outputs": [],
   "source": [
    "def placeH(n_x,n_y):\n",
    "    X=tf.placeholder(tf.float32, [n_x,None])\n",
    "    Y=tf.placeholder(tf.float32, [n_y,None])\n",
    "    return X,Y"
   ]
  },
  {
   "cell_type": "code",
   "execution_count": 189,
   "metadata": {},
   "outputs": [],
   "source": [
    "\n",
    "def ForwardProp(X,dictw):\n",
    "    W1=dictw['W1']\n",
    "    W2=dictw['W2']\n",
    "    W3=dictw['W3']\n",
    "    b1=dictw['b1']\n",
    "    b2=dictw['b2']\n",
    "    b3=dictw['b3']\n",
    "        \n",
    "    Z1=tf.add(tf.matmul(W1,X),b1)\n",
    "    A1=tf.nn.relu(Z1)\n",
    "    Z2=tf.add(tf.matmul(W2,A1),b2)\n",
    "    A2=tf.nn.relu(Z2)\n",
    "    Z3 = tf.add(tf.matmul(W3,A2),b3)\n",
    "    return(Z3)"
   ]
  },
  {
   "cell_type": "code",
   "execution_count": 193,
   "metadata": {},
   "outputs": [],
   "source": [
    "def model(X_train, Y_train,  learning_rate = 0.001,epoch = 10, minibatch_size = 30):\n",
    "    \n",
    "    dictw=Initialize()\n",
    "    n_x,m=X_train.shape\n",
    "    n_y=Y_train.shape[0]\n",
    "    X,Y=placeH(n_x,n_y)\n",
    "    Z3=ForwardProp(X,dictw)\n",
    "    costz=costv(Z3,Y)\n",
    "    #train=  tf.train.GradientDescentOptimizer(learning_rate = learning_rate).minimize(costz)\n",
    "    train = tf.train.AdamOptimizer(1e-4).minimize(costz)\n",
    "    with tf.Session() as ss:\n",
    "        ss.run(tf.global_variables_initializer())\n",
    "        \n",
    "        for i in range(epoch):\n",
    "            r=0\n",
    "            u=m//minibatch_size\n",
    "            for v in range(u):\n",
    "                x1=X_train[:,r:r+minibatch_size]\n",
    "                y1=Y_train[:,r:r+minibatch_size]\n",
    "                r=r+minibatch_size\n",
    "                _,costl=ss.run([train,costz],feed_dict={X:x1,Y:y1})\n",
    "        print(\"parameters trained\")\n",
    "        pp=ss.run(dictw)\n",
    "        correct_prediction = tf.equal(tf.argmax(Z3), tf.argmax(Y))\n",
    "\n",
    "        \n",
    "        accuracy = tf.reduce_mean(tf.cast(correct_prediction, \"float\"))\n",
    "\n",
    "        print (\"Train Accuracy:\", accuracy.eval({X: X_train, Y: Y_train}))\n",
    "    return(pp)\n",
    "            \n",
    "        \n",
    "    "
   ]
  },
  {
   "cell_type": "code",
   "execution_count": 194,
   "metadata": {},
   "outputs": [
    {
     "name": "stdout",
     "output_type": "stream",
     "text": [
      "(784, 60000)\n"
     ]
    }
   ],
   "source": [
    "X_train2=x_train.reshape(60000,784)/255\n",
    "\n",
    "y_train2=np.eye(10)[y_train]\n",
    "y_trainz=np.transpose(y_train2)\n",
    "x_trainz=np.transpose(X_train2)\n",
    "print(x_trainz.shape)\n"
   ]
  },
  {
   "cell_type": "raw",
   "metadata": {},
   "source": [
    " "
   ]
  },
  {
   "cell_type": "code",
   "execution_count": 195,
   "metadata": {},
   "outputs": [
    {
     "name": "stdout",
     "output_type": "stream",
     "text": [
      "parameters trained\n",
      "Train Accuracy: 0.986733\n"
     ]
    }
   ],
   "source": [
    "s=model(x_trainz,y_trainz)"
   ]
  },
  {
   "cell_type": "code",
   "execution_count": 196,
   "metadata": {},
   "outputs": [],
   "source": [
    "X_test=x_test.reshape(10000,784)/255\n",
    "\n",
    "y_test2=np.eye(10)[y_test]\n",
    "y_testz=np.transpose(y_test2)\n",
    "x_testz=np.transpose(X_test)\n",
    "a,b=placeH(784,10)\n",
    "\n"
   ]
  },
  {
   "cell_type": "code",
   "execution_count": 197,
   "metadata": {
    "collapsed": true
   },
   "outputs": [],
   "source": [
    "qv=tf.Session()\n",
    "Z3=ForwardProp(a,s)\n",
    "#vt=q.run(Z3,feed_dict={a:x_testz,b:y_testz})"
   ]
  },
  {
   "cell_type": "code",
   "execution_count": 198,
   "metadata": {},
   "outputs": [
    {
     "name": "stdout",
     "output_type": "stream",
     "text": [
      "0.9723\n"
     ]
    }
   ],
   "source": [
    "correct_prediction = tf.equal(tf.argmax(Z3), tf.argmax(b))\n",
    "\n",
    "accuracy = tf.reduce_mean(tf.cast(correct_prediction, \"float\"))\n",
    "print(qv.run(accuracy,feed_dict={a:x_testz,b:y_testz}))"
   ]
  },
  {
   "cell_type": "code",
   "execution_count": null,
   "metadata": {
    "collapsed": true
   },
   "outputs": [],
   "source": []
  }
 ],
 "metadata": {
  "kernelspec": {
   "display_name": "Python 3",
   "language": "python",
   "name": "python3"
  },
  "language_info": {
   "codemirror_mode": {
    "name": "ipython",
    "version": 3
   },
   "file_extension": ".py",
   "mimetype": "text/x-python",
   "name": "python",
   "nbconvert_exporter": "python",
   "pygments_lexer": "ipython3",
   "version": "3.6.3"
  }
 },
 "nbformat": 4,
 "nbformat_minor": 2
}
