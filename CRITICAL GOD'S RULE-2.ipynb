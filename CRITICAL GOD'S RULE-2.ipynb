{
 "cells": [
  {
   "cell_type": "code",
   "execution_count": 27,
   "metadata": {},
   "outputs": [],
   "source": [
    "import tensorflow as tf\n",
    "import numpy as np\n",
    "import matplotlib.pyplot as plt\n",
    "%matplotlib inline\n",
    "reuse=tf.AUTO_REUSE\n",
    "import keras"
   ]
  },
  {
   "cell_type": "code",
   "execution_count": 28,
   "metadata": {},
   "outputs": [
    {
     "name": "stdout",
     "output_type": "stream",
     "text": [
      "(3, 1)\n"
     ]
    }
   ],
   "source": [
    "coef=np.array([[1],[-10],[25]])\n",
    "print(coef.shape)"
   ]
  },
  {
   "cell_type": "code",
   "execution_count": 29,
   "metadata": {
    "collapsed": true
   },
   "outputs": [],
   "source": [
    "w=tf.Variable(0,dtype=tf.float32)"
   ]
  },
  {
   "cell_type": "code",
   "execution_count": 30,
   "metadata": {
    "collapsed": true
   },
   "outputs": [],
   "source": [
    "x=tf.placeholder(tf.float32,shape=(3,1))"
   ]
  },
  {
   "cell_type": "code",
   "execution_count": 31,
   "metadata": {
    "collapsed": true
   },
   "outputs": [],
   "source": [
    "cost=x[0][0]*w**2+x[1][0]*w+x[2][0]"
   ]
  },
  {
   "cell_type": "code",
   "execution_count": null,
   "metadata": {
    "collapsed": true
   },
   "outputs": [],
   "source": []
  },
  {
   "cell_type": "code",
   "execution_count": 32,
   "metadata": {
    "collapsed": true
   },
   "outputs": [],
   "source": [
    "train=tf.train.GradientDescentOptimizer(0.01).minimize(cost)"
   ]
  },
  {
   "cell_type": "code",
   "execution_count": 33,
   "metadata": {
    "collapsed": true
   },
   "outputs": [],
   "source": [
    " \n",
    "\n",
    "ss = tf.Session()\n",
    "ss.run(tf.global_variables_initializer())\n",
    "for i in range(2000):\n",
    "    ss.run(train,feed_dict={x:coef})"
   ]
  },
  {
   "cell_type": "code",
   "execution_count": 34,
   "metadata": {},
   "outputs": [
    {
     "data": {
      "text/plain": [
       "4.9999886"
      ]
     },
     "execution_count": 34,
     "metadata": {},
     "output_type": "execute_result"
    }
   ],
   "source": [
    "ss.run(w)"
   ]
  },
  {
   "cell_type": "code",
   "execution_count": 35,
   "metadata": {
    "collapsed": true
   },
   "outputs": [],
   "source": [
    "from keras.datasets import mnist"
   ]
  },
  {
   "cell_type": "code",
   "execution_count": 36,
   "metadata": {},
   "outputs": [
    {
     "name": "stdout",
     "output_type": "stream",
     "text": [
      "(60000, 28, 28)\n"
     ]
    }
   ],
   "source": [
    "(x_train, y_train), (x_test, y_test) = mnist.load_data()\n",
    "print(x_train.shape)"
   ]
  },
  {
   "cell_type": "code",
   "execution_count": 128,
   "metadata": {
    "collapsed": true
   },
   "outputs": [],
   "source": [
    " "
   ]
  },
  {
   "cell_type": "code",
   "execution_count": 129,
   "metadata": {},
   "outputs": [
    {
     "data": {
      "text/plain": [
       "<matplotlib.image.AxesImage at 0x7f437646c5f8>"
      ]
     },
     "execution_count": 129,
     "metadata": {},
     "output_type": "execute_result"
    },
    {
     "data": {
      "image/png": "[encoded data removed]",
      "text/plain": [
       "<matplotlib.figure.Figure at 0x7f4375c887b8>"
      ]
     },
     "metadata": {},
     "output_type": "display_data"
    }
   ],
   "source": [
    "q=x_train[7]\n",
    "plt.imshow(q)"
   ]
  },
  {
   "cell_type": "code",
   "execution_count": null,
   "metadata": {
    "collapsed": true
   },
   "outputs": [],
   "source": []
  },
  {
   "cell_type": "code",
   "execution_count": 41,
   "metadata": {
    "collapsed": true
   },
   "outputs": [],
   "source": [
    "def Initialize():    \n",
    "    tf.set_random_seed(1)                   \n",
    "    with tf.variable_scope(tf.get_variable_scope(),reuse=tf.AUTO_REUSE) as scope:\n",
    "        \n",
    "        W1 = tf.get_variable(\"W1\", [300,784], initializer = tf.contrib.layers.xavier_initializer(seed = 1))\n",
    "        b1 = tf.get_variable(\"b1\", [300,1], initializer = tf.zeros_initializer())\n",
    "        W2 = tf.get_variable(\"W2\", [100,300], initializer = tf.contrib.layers.xavier_initializer(seed = 1))\n",
    "        b2 = tf.get_variable(\"b2\", [100,1], initializer = tf.zeros_initializer())\n",
    "        W3 = tf.get_variable(\"W3\", [10,100], initializer = tf.contrib.layers.xavier_initializer(seed = 1))\n",
    "        b3 = tf.get_variable(\"b3\", [10,1], initializer = tf.zeros_initializer())\n",
    "    \n",
    "\n",
    "    parameters = {\"W1\": W1,\n",
    "                  \"b1\": b1,\n",
    "                  \"W2\": W2,\n",
    "                  \"b2\": b2,\n",
    "                  \"W3\": W3,\n",
    "                  \"b3\": b3}\n",
    "    \n",
    "    return parameters\n",
    "        "
   ]
  },
  {
   "cell_type": "code",
   "execution_count": 42,
   "metadata": {
    "collapsed": true
   },
   "outputs": [],
   "source": [
    "def costv(Z3,Y):\n",
    "    loss=tf.reduce_mean(tf.nn.softmax_cross_entropy_with_logits(logits=tf.transpose(Z3),labels=tf.transpose(Y)))\n",
    "    return(loss)"
   ]
  },
  {
   "cell_type": "code",
   "execution_count": null,
   "metadata": {
    "collapsed": true
   },
   "outputs": [],
   "source": []
  },
  {
   "cell_type": "code",
   "execution_count": 43,
   "metadata": {
    "collapsed": true
   },
   "outputs": [],
   "source": [
    "def placeH(n_x,n_y):\n",
    "    X=tf.placeholder(tf.float32, [n_x,None])\n",
    "    Y=tf.placeholder(tf.float32, [n_y,None])\n",
    "    return X,Y"
   ]
  },
  {
   "cell_type": "code",
   "execution_count": 44,
   "metadata": {
    "collapsed": true
   },
   "outputs": [],
   "source": [
    "\n",
    "def ForwardProp(X,dictw):\n",
    "    W1=dictw['W1']\n",
    "    W2=dictw['W2']\n",
    "    W3=dictw['W3']\n",
    "    b1=dictw['b1']\n",
    "    b2=dictw['b2']\n",
    "    b3=dictw['b3']\n",
    "        \n",
    "    Z1=tf.add(tf.matmul(W1,X),b1)\n",
    "    A1=tf.nn.relu(Z1)\n",
    "    Z2=tf.add(tf.matmul(W2,A1),b2)\n",
    "    A2=tf.nn.relu(Z2)\n",
    "    Z3 = tf.add(tf.matmul(W3,A2),b3)\n",
    "    return(Z3)"
   ]
  },
  {
   "cell_type": "code",
   "execution_count": 45,
   "metadata": {
    "collapsed": true
   },
   "outputs": [],
   "source": [
    "def model(X_train, Y_train,  learning_rate = 0.001,epoch = 10, minibatch_size = 30):\n",
    "    \n",
    "    dictw=Initialize()\n",
    "    n_x,m=X_train.shape\n",
    "    n_y=Y_train.shape[0]\n",
    "    X,Y=placeH(n_x,n_y)\n",
    "    Z3=ForwardProp(X,dictw)\n",
    "    costz=costv(Z3,Y)\n",
    "    #train=  tf.train.GradientDescentOptimizer(learning_rate = learning_rate).minimize(costz)\n",
    "    train = tf.train.AdamOptimizer(1e-4).minimize(costz)\n",
    "    with tf.Session() as ss:\n",
    "        ss.run(tf.global_variables_initializer())\n",
    "        \n",
    "        for i in range(epoch):\n",
    "            r=0\n",
    "            u=m//minibatch_size\n",
    "            for v in range(u):\n",
    "                x1=X_train[:,r:r+minibatch_size]\n",
    "                y1=Y_train[:,r:r+minibatch_size]\n",
    "                r=r+minibatch_size\n",
    "                _,costl=ss.run([train,costz],feed_dict={X:x1,Y:y1})\n",
    "        print(\"parameters trained\")\n",
    "        pp=ss.run(dictw)\n",
    "        correct_prediction = tf.equal(tf.argmax(Z3), tf.argmax(Y))\n",
    "\n",
    "        \n",
    "        accuracy = tf.reduce_mean(tf.cast(correct_prediction, \"float\"))\n",
    "\n",
    "        print (\"Train Accuracy:\", accuracy.eval({X: X_train, Y: Y_train}))\n",
    "    return(pp)\n",
    "            \n",
    "        \n",
    "    "
   ]
  },
  {
   "cell_type": "code",
   "execution_count": 46,
   "metadata": {},
   "outputs": [
    {
     "name": "stdout",
     "output_type": "stream",
     "text": [
      "(784, 60000)\n"
     ]
    }
   ],
   "source": [
    "X_train2=x_train.reshape(60000,784)/255\n",
    "\n",
    "y_train2=np.eye(10)[y_train]\n",
    "y_trainz=np.transpose(y_train2)\n",
    "x_trainz=np.transpose(X_train2)\n",
    "print(x_trainz.shape)\n"
   ]
  },
  {
   "cell_type": "code",
   "execution_count": null,
   "metadata": {},
   "outputs": [],
   "source": []
  },
  {
   "cell_type": "code",
   "execution_count": 47,
   "metadata": {},
   "outputs": [
    {
     "name": "stdout",
     "output_type": "stream",
     "text": [
      "parameters trained\n",
      "Train Accuracy: 0.986733\n"
     ]
    }
   ],
   "source": [
    "s=model(x_trainz,y_trainz)"
   ]
  },
  {
   "cell_type": "code",
   "execution_count": 48,
   "metadata": {
    "collapsed": true
   },
   "outputs": [],
   "source": [
    "X_test=x_test.reshape(10000,784)/255\n",
    "\n",
    "y_test2=np.eye(10)[y_test]\n",
    "y_testz=np.transpose(y_test2)\n",
    "x_testz=np.transpose(X_test)\n",
    "a,b=placeH(784,10)\n",
    "\n"
   ]
  },
  {
   "cell_type": "code",
   "execution_count": 49,
   "metadata": {
    "collapsed": true
   },
   "outputs": [],
   "source": [
    "qv=tf.Session()\n",
    "Z3=ForwardProp(a,s)\n",
    "#vt=q.run(Z3,feed_dict={a:x_testz,b:y_testz})"
   ]
  },
  {
   "cell_type": "code",
   "execution_count": 50,
   "metadata": {},
   "outputs": [
    {
     "name": "stdout",
     "output_type": "stream",
     "text": [
      "0.9723\n"
     ]
    }
   ],
   "source": [
    "correct_prediction = tf.equal(tf.argmax(Z3), tf.argmax(b))\n",
    "\n",
    "accuracy = tf.reduce_mean(tf.cast(correct_prediction, \"float\"))\n",
    "print(qv.run(accuracy,feed_dict={a:x_testz,b:y_testz}))"
   ]
  },
  {
   "cell_type": "code",
   "execution_count": 58,
   "metadata": {
    "collapsed": true
   },
   "outputs": [],
   "source": [
    "xxx=qv.run(Z3,feed_dict={a:x_trainz,b:y_trainz})"
   ]
  },
  {
   "cell_type": "code",
   "execution_count": 59,
   "metadata": {},
   "outputs": [
    {
     "data": {
      "text/plain": [
       "(10, 60000)"
      ]
     },
     "execution_count": 59,
     "metadata": {},
     "output_type": "execute_result"
    }
   ],
   "source": [
    "xxx.shape"
   ]
  },
  {
   "cell_type": "code",
   "execution_count": 80,
   "metadata": {
    "collapsed": true
   },
   "outputs": [],
   "source": [
    "def Initialize2():    \n",
    "    tf.set_random_seed(1)                   \n",
    "    with tf.variable_scope(tf.get_variable_scope(),reuse=tf.AUTO_REUSE) as scope:\n",
    "        \n",
    "        zW1 = tf.get_variable(\"zW1\", [100,10], initializer = tf.contrib.layers.xavier_initializer(seed = 1))\n",
    "        zb1 = tf.get_variable(\"zb1\", [100,1], initializer = tf.zeros_initializer())\n",
    "        zW2 = tf.get_variable(\"zW2\", [300,100], initializer = tf.contrib.layers.xavier_initializer(seed = 1))\n",
    "        zb2 = tf.get_variable(\"zb2\", [300,1], initializer = tf.zeros_initializer())\n",
    "        zW3 = tf.get_variable(\"zW3\", [784,300], initializer = tf.contrib.layers.xavier_initializer(seed = 1))\n",
    "        zb3 = tf.get_variable(\"zb3\", [784,1], initializer = tf.zeros_initializer())\n",
    "    \n",
    "\n",
    "    parameters = {\"zW1\": zW1,\n",
    "                  \"zb1\": zb1,\n",
    "                  \"zW2\": zW2,\n",
    "                  \"zb2\": zb2,\n",
    "                  \"zW3\": zW3,\n",
    "                  \"zb3\": zb3}\n",
    "    \n",
    "    return parameters"
   ]
  },
  {
   "cell_type": "code",
   "execution_count": 81,
   "metadata": {
    "collapsed": true
   },
   "outputs": [],
   "source": [
    "def loss2(Z3,Y):\n",
    "    u=Z3-Y\n",
    "    v=tf.square(u)\n",
    "    f=tf.reduce_sum(v)\n",
    "    f=f/60000\n",
    "    return f"
   ]
  },
  {
   "cell_type": "code",
   "execution_count": 96,
   "metadata": {
    "collapsed": true
   },
   "outputs": [],
   "source": [
    "def ForwardProp2(X,dictw):\n",
    "    W1=dictw['zW1']\n",
    "    W2=dictw['zW2']\n",
    "    W3=dictw['zW3']\n",
    "    b1=dictw['zb1']\n",
    "    b2=dictw['zb2']\n",
    "    b3=dictw['zb3']\n",
    "        \n",
    "    Z1=tf.add(tf.matmul(W1,X),b1)\n",
    "    A1=tf.nn.relu(Z1)\n",
    "    Z2=tf.add(tf.matmul(W2,A1),b2)\n",
    "    A2=tf.nn.relu(Z2)\n",
    "    Z3 = tf.nn.relu(tf.add(tf.matmul(W3,A2),b3))\n",
    "    return(Z3)"
   ]
  },
  {
   "cell_type": "code",
   "execution_count": 97,
   "metadata": {
    "collapsed": true
   },
   "outputs": [],
   "source": [
    "def model2(X_train, Y_train,  learning_rate = 0.001,epoch = 10, minibatch_size = 30):\n",
    "    \n",
    "    dictw=Initialize2()\n",
    "    n_x,m=X_train.shape\n",
    "    n_y=Y_train.shape[0]\n",
    "    X,Y=placeH(n_x,n_y)\n",
    "    Z3=ForwardProp2(X,dictw)\n",
    "    costz=loss2(Z3,Y)\n",
    "    #train=  tf.train.GradientDescentOptimizer(learning_rate = learning_rate).minimize(costz)\n",
    "    train = tf.train.AdamOptimizer(1e-4).minimize(costz)\n",
    "    with tf.Session() as ss:\n",
    "        ss.run(tf.global_variables_initializer())\n",
    "        \n",
    "        for i in range(epoch):\n",
    "            r=0\n",
    "            u=m//minibatch_size\n",
    "            for v in range(u):\n",
    "                x1=X_train[:,r:r+minibatch_size]\n",
    "                y1=Y_train[:,r:r+minibatch_size]\n",
    "                r=r+minibatch_size\n",
    "                _,costl=ss.run([train,costz],feed_dict={X:x1,Y:y1})\n",
    "        print(\"parameters trained\")\n",
    "        pp=ss.run(Z3,feed_dict={X:X_train,Y:Y_train})        \n",
    "    return(pp)"
   ]
  },
  {
   "cell_type": "code",
   "execution_count": 98,
   "metadata": {},
   "outputs": [
    {
     "data": {
      "text/plain": [
       "(784, 10000)"
      ]
     },
     "execution_count": 98,
     "metadata": {},
     "output_type": "execute_result"
    }
   ],
   "source": [
    "x_testz.shape"
   ]
  },
  {
   "cell_type": "code",
   "execution_count": 99,
   "metadata": {},
   "outputs": [
    {
     "name": "stdout",
     "output_type": "stream",
     "text": [
      "parameters trained\n"
     ]
    }
   ],
   "source": [
    "opp=model2(xxx,x_trainz)"
   ]
  },
  {
   "cell_type": "code",
   "execution_count": 100,
   "metadata": {},
   "outputs": [
    {
     "data": {
      "text/plain": [
       "(784, 60000)"
      ]
     },
     "execution_count": 100,
     "metadata": {},
     "output_type": "execute_result"
    }
   ],
   "source": [
    "opp.shape"
   ]
  },
  {
   "cell_type": "code",
   "execution_count": 146,
   "metadata": {},
   "outputs": [],
   "source": [
    "ac=opp[:,0]"
   ]
  },
  {
   "cell_type": "code",
   "execution_count": 147,
   "metadata": {},
   "outputs": [
    {
     "data": {
      "text/plain": [
       "array([[ 0.        ,  0.        ,  0.        ,  0.        ,  0.        ,\n",
       "         0.        ,  0.        ,  0.        ,  0.        ,  0.        ,\n",
       "         0.        ,  0.        ,  0.        ,  0.        ,  0.        ,\n",
       "         0.        ,  0.        ,  0.        ,  0.        ,  0.        ,\n",
       "         0.        ,  0.        ,  0.        ,  0.        ,  0.        ,\n",
       "         0.        ,  0.        ,  0.        ],\n",
       "       [ 0.        ,  0.        ,  0.        ,  0.        ,  0.        ,\n",
       "         0.        ,  0.        ,  0.        ,  0.        ,  0.        ,\n",
       "         0.        ,  0.        ,  0.        ,  0.        ,  0.        ,\n",
       "         0.        ,  0.        ,  0.        ,  0.        ,  0.        ,\n",
       "         0.        ,  0.        ,  0.        ,  0.        ,  0.        ,\n",
       "         0.        ,  0.        ,  0.        ],\n",
       "       [ 0.        ,  0.        ,  0.        ,  0.        ,  0.        ,\n",
       "         0.        ,  0.        ,  0.        ,  0.        ,  0.        ,\n",
       "         0.        ,  0.        ,  0.        ,  0.        ,  0.        ,\n",
       "         0.        ,  0.        ,  0.        ,  0.        ,  0.        ,\n",
       "         0.        ,  0.        ,  0.        ,  0.        ,  0.        ,\n",
       "         0.        ,  0.        ,  0.        ],\n",
       "       [ 0.        ,  0.        ,  0.        ,  0.        ,  0.        ,\n",
       "         0.        ,  0.        ,  0.        ,  0.        ,  0.        ,\n",
       "         0.        ,  0.        ,  0.        ,  0.        ,  0.        ,\n",
       "         0.        ,  0.        ,  0.        ,  0.        ,  0.        ,\n",
       "         0.        ,  0.        ,  0.        ,  0.        ,  0.        ,\n",
       "         0.        ,  0.        ,  0.        ],\n",
       "       [ 0.        ,  0.        ,  0.        ,  0.        ,  0.        ,\n",
       "         0.        ,  0.        ,  0.        ,  0.        ,  0.        ,\n",
       "         0.        ,  0.        ,  0.        ,  0.        ,  0.        ,\n",
       "         0.        ,  0.        ,  0.        ,  0.        ,  0.        ,\n",
       "         0.        ,  0.        ,  0.        ,  0.        ,  0.        ,\n",
       "         0.        ,  0.        ,  0.        ],\n",
       "       [ 0.        ,  0.        ,  0.        ,  0.        ,  0.        ,\n",
       "         0.        ,  0.        ,  0.        ,  0.        ,  0.03792167,\n",
       "         0.14409043,  0.        ,  0.        ,  0.        ,  0.        ,\n",
       "         0.08332105,  0.32652485,  0.25977284,  0.        ,  0.25413874,\n",
       "         0.20938605,  0.        ,  0.        ,  0.43563479,  0.        ,\n",
       "         0.        ,  0.        ,  0.        ],\n",
       "       [ 0.        ,  0.        ,  0.        ,  0.        ,  0.        ,\n",
       "         0.        ,  0.        ,  0.        ,  0.34823406,  0.4557687 ,\n",
       "         0.59991002,  0.434185  ,  0.42975643,  0.27372643,  0.54421586,\n",
       "         0.54764324,  0.51886678,  0.55973637,  0.76216841,  0.70958531,\n",
       "         0.6885916 ,  0.58908671,  0.48101607,  0.30371484,  0.        ,\n",
       "         0.        ,  0.        ,  0.        ],\n",
       "       [ 0.        ,  0.        ,  0.        ,  0.        ,  0.        ,\n",
       "         0.19576849,  0.31151718,  0.62326449,  0.80751681,  0.84931564,\n",
       "         0.83554327,  0.74720329,  0.67178011,  0.72577894,  0.        ,\n",
       "         0.61009502,  0.64460611,  0.70566279,  0.67054099,  0.76485294,\n",
       "         0.70233291,  0.        ,  0.35768872,  0.27008626,  0.        ,\n",
       "         0.        ,  0.        ,  0.        ],\n",
       "       [ 0.        ,  0.        ,  0.        ,  0.        ,  0.00533502,\n",
       "         0.        ,  0.50424695,  0.62161261,  0.77427155,  0.77701771,\n",
       "         0.72981697,  0.67230433,  0.84278673,  0.82893234,  0.76897478,\n",
       "         0.52366877,  0.41933018,  0.42544129,  0.40279105,  0.47100562,\n",
       "         0.29652327,  0.24742943,  0.1940863 ,  0.        ,  0.        ,\n",
       "         0.        ,  0.        ,  0.        ],\n",
       "       [ 0.        ,  0.        ,  0.        ,  0.        ,  0.        ,\n",
       "         0.22790176,  0.570741  ,  0.67508805,  0.6543501 ,  0.64909571,\n",
       "         0.44994208,  0.58282214,  0.90108544,  0.84251165,  0.69681823,\n",
       "         0.41088691,  0.13288467,  0.20979427,  0.09617853,  0.        ,\n",
       "         0.        ,  0.        ,  0.        ,  0.        ,  0.        ,\n",
       "         0.        ,  0.        ,  0.        ],\n",
       "       [ 0.        ,  0.        ,  0.        ,  0.        ,  0.        ,\n",
       "         0.        ,  0.35737896,  0.6183219 ,  0.4855147 ,  0.49470666,\n",
       "         0.57954288,  0.68789262,  0.74781054,  0.55280167,  0.41050044,\n",
       "         0.2730847 ,  0.11941913,  0.06068579,  0.02031937,  0.        ,\n",
       "         0.        ,  0.        ,  0.        ,  0.        ,  0.        ,\n",
       "         0.        ,  0.        ,  0.        ],\n",
       "       [ 0.        ,  0.        ,  0.        ,  0.        ,  0.        ,\n",
       "         0.        ,  0.42257884,  0.51827151,  0.42138857,  0.49916363,\n",
       "         0.79817772,  0.67214072,  0.57837844,  0.38256285,  0.53316897,\n",
       "         0.55696851,  0.57376426,  0.40655112,  0.22407851,  0.01944224,\n",
       "         0.05466908,  0.        ,  0.        ,  0.        ,  0.        ,\n",
       "         0.        ,  0.        ,  0.        ],\n",
       "       [ 0.        ,  0.        ,  0.        ,  0.        ,  0.        ,\n",
       "         0.        ,  0.27517843,  0.        ,  0.46740997,  0.33379605,\n",
       "         0.75844634,  0.64249933,  0.59800136,  0.47832525,  0.57348531,\n",
       "         0.66821545,  0.5352878 ,  0.43671459,  0.51989233,  0.38639498,\n",
       "         0.11302842,  0.        ,  0.        ,  0.        ,  0.        ,\n",
       "         0.        ,  0.        ,  0.        ],\n",
       "       [ 0.        ,  0.        ,  0.        ,  0.        ,  0.        ,\n",
       "         0.        ,  0.        ,  0.1925838 ,  0.3166891 ,  0.56054705,\n",
       "         0.52920419,  0.54252458,  0.44837409,  0.32851046,  0.39073342,\n",
       "         0.41464925,  0.25272694,  0.25717527,  0.56351477,  0.56692475,\n",
       "         0.51549941,  0.19255374,  0.        ,  0.        ,  0.        ,\n",
       "         0.        ,  0.        ,  0.        ],\n",
       "       [ 0.        ,  0.        ,  0.        ,  0.        ,  0.        ,\n",
       "         0.        ,  0.        ,  0.02753238,  0.00358881,  0.13210367,\n",
       "         0.19949685,  0.21726117,  0.08904842,  0.33778837,  0.13056342,\n",
       "         0.21312368,  0.26964393,  0.59701657,  0.51793122,  0.63591093,\n",
       "         0.63957882,  0.27030474,  0.05185207,  0.        ,  0.        ,\n",
       "         0.        ,  0.        ,  0.        ],\n",
       "       [ 0.        ,  0.        ,  0.        ,  0.        ,  0.        ,\n",
       "         0.        ,  0.        ,  0.        ,  0.        ,  0.17049247,\n",
       "         0.        ,  0.        ,  0.        ,  0.08819729,  0.02303841,\n",
       "         0.10162042,  0.0752501 ,  0.41833669,  0.62259746,  0.7564311 ,\n",
       "         0.78790885,  0.5234164 ,  0.1343962 ,  0.        ,  0.        ,\n",
       "         0.        ,  0.        ,  0.        ],\n",
       "       [ 0.        ,  0.        ,  0.        ,  0.        ,  0.        ,\n",
       "         0.        ,  0.18564594,  0.        ,  0.        ,  0.        ,\n",
       "         0.        ,  0.        ,  0.        ,  0.        ,  0.        ,\n",
       "         0.18978362,  0.19698435,  0.52038008,  0.81482077,  0.69143498,\n",
       "         0.70215952,  0.79805964,  0.48707101,  0.        ,  0.        ,\n",
       "         0.        ,  0.        ,  0.        ],\n",
       "       [ 0.        ,  0.        ,  0.        ,  0.        ,  0.05718046,\n",
       "         0.        ,  0.23299098,  0.        ,  0.        ,  0.        ,\n",
       "         0.        ,  0.        ,  0.        ,  0.        ,  0.        ,\n",
       "         0.01262775,  0.15090372,  0.65641814,  0.89176297,  0.94925195,\n",
       "         0.80880708,  0.67515463,  0.63906211,  0.34161615,  0.        ,\n",
       "         0.        ,  0.        ,  0.        ],\n",
       "       [ 0.        ,  0.        ,  0.        ,  0.        ,  0.        ,\n",
       "         0.24043526,  0.25236601,  0.11453025,  0.        ,  0.        ,\n",
       "         0.        ,  0.        ,  0.        ,  0.        ,  0.10585283,\n",
       "         0.12552106,  0.49231166,  0.74669224,  0.87735772,  0.83673215,\n",
       "         0.68149823,  0.48519731,  0.56367397,  0.        ,  0.        ,\n",
       "         0.        ,  0.        ,  0.        ],\n",
       "       [ 0.        ,  0.        ,  0.        ,  0.        ,  0.20956489,\n",
       "         0.3715612 ,  0.21273354,  0.19409981,  0.10061802,  0.        ,\n",
       "         0.        ,  0.        ,  0.        ,  0.09836563,  0.23558992,\n",
       "         0.28382432,  0.53019756,  0.84504151,  0.97886598,  0.75093836,\n",
       "         0.63018608,  0.62135804,  0.74577546,  0.        ,  0.        ,\n",
       "         0.        ,  0.        ,  0.        ],\n",
       "       [ 0.        ,  0.        ,  0.        ,  0.        ,  0.12249273,\n",
       "         0.15350495,  0.28742614,  0.46947718,  0.04306887,  0.05154803,\n",
       "         0.13317946,  0.2249669 ,  0.2173546 ,  0.44236505,  0.48231545,\n",
       "         0.58437586,  0.76161098,  0.70604861,  0.65565699,  0.55635726,\n",
       "         0.66803759,  0.        ,  0.        ,  0.28184929,  0.        ,\n",
       "         0.        ,  0.        ,  0.        ],\n",
       "       [ 0.        ,  0.        ,  0.        ,  0.        ,  0.        ,\n",
       "         0.15064704,  0.23659608,  0.23004043,  0.12945881,  0.07598393,\n",
       "         0.18869479,  0.35152653,  0.55521512,  0.65366352,  0.54579872,\n",
       "         0.5614053 ,  0.56288421,  0.47744721,  0.54878104,  0.60495579,\n",
       "         0.53841215,  0.24691139,  0.        ,  0.18082589,  0.        ,\n",
       "         0.        ,  0.        ,  0.        ],\n",
       "       [ 0.        ,  0.        ,  0.        ,  0.        ,  0.        ,\n",
       "         0.        ,  0.25018239,  0.32138252,  0.        ,  0.33394709,\n",
       "         0.31680599,  0.49455756,  0.38536918,  0.50891441,  0.35812032,\n",
       "         0.46431637,  0.37876049,  0.26690042,  0.42047784,  0.        ,\n",
       "         0.25726435,  0.        ,  0.        ,  0.        ,  0.        ,\n",
       "         0.        ,  0.        ,  0.        ],\n",
       "       [ 0.        ,  0.        ,  0.        ,  0.        ,  0.        ,\n",
       "         0.        ,  0.49376717,  0.48630545,  0.35958675,  0.49327713,\n",
       "         0.37360039,  0.21331309,  0.        ,  0.349246  ,  0.16457734,\n",
       "         0.21967433,  0.16951698,  0.27667418,  0.11260313,  0.06698772,\n",
       "         0.04026781,  0.        ,  0.        ,  0.        ,  0.        ,\n",
       "         0.        ,  0.        ,  0.        ],\n",
       "       [ 0.        ,  0.        ,  0.        ,  0.        ,  0.        ,\n",
       "         0.        ,  0.        ,  0.        ,  0.45873922,  0.        ,\n",
       "         0.203026  ,  0.12879784,  0.03986748,  0.        ,  0.        ,\n",
       "         0.        ,  0.        ,  0.13836724,  0.10742074,  0.        ,\n",
       "         0.        ,  0.        ,  0.        ,  0.        ,  0.        ,\n",
       "         0.        ,  0.        ,  0.        ],\n",
       "       [ 0.        ,  0.        ,  0.        ,  0.        ,  0.        ,\n",
       "         0.        ,  0.        ,  0.        ,  0.        ,  0.        ,\n",
       "         0.        ,  0.        ,  0.        ,  0.        ,  0.        ,\n",
       "         0.        ,  0.        ,  0.        ,  0.        ,  0.        ,\n",
       "         0.        ,  0.        ,  0.        ,  0.        ,  0.        ,\n",
       "         0.        ,  0.        ,  0.        ],\n",
       "       [ 0.        ,  0.        ,  0.        ,  0.        ,  0.        ,\n",
       "         0.        ,  0.        ,  0.        ,  0.        ,  0.        ,\n",
       "         0.        ,  0.        ,  0.        ,  0.        ,  0.        ,\n",
       "         0.        ,  0.        ,  0.        ,  0.        ,  0.        ,\n",
       "         0.        ,  0.        ,  0.        ,  0.        ,  0.        ,\n",
       "         0.        ,  0.        ,  0.        ],\n",
       "       [ 0.        ,  0.        ,  0.        ,  0.        ,  0.        ,\n",
       "         0.        ,  0.        ,  0.        ,  0.        ,  0.        ,\n",
       "         0.        ,  0.        ,  0.        ,  0.        ,  0.        ,\n",
       "         0.        ,  0.        ,  0.        ,  0.        ,  0.        ,\n",
       "         0.        ,  0.        ,  0.        ,  0.        ,  0.        ,\n",
       "         0.        ,  0.        ,  0.        ]], dtype=float32)"
      ]
     },
     "execution_count": 147,
     "metadata": {},
     "output_type": "execute_result"
    }
   ],
   "source": [
    "ac.reshape(28,28)"
   ]
  },
  {
   "cell_type": "code",
   "execution_count": 148,
   "metadata": {},
   "outputs": [],
   "source": [
    "u=ac*255"
   ]
  },
  {
   "cell_type": "code",
   "execution_count": 149,
   "metadata": {
    "collapsed": true
   },
   "outputs": [],
   "source": [
    "u=u.reshape(28,28)"
   ]
  },
  {
   "cell_type": "code",
   "execution_count": 150,
   "metadata": {},
   "outputs": [
    {
     "data": {
      "text/plain": [
       "<matplotlib.image.AxesImage at 0x7f4375cc0a58>"
      ]
     },
     "execution_count": 150,
     "metadata": {},
     "output_type": "execute_result"
    },
    {
     "data": {
      "image/png": "[encoded data removed]",
      "text/plain": [
       "<matplotlib.figure.Figure at 0x7f4375ed1358>"
      ]
     },
     "metadata": {},
     "output_type": "display_data"
    }
   ],
   "source": [
    "xz=np.abs(u)\n",
    "plt.imshow(xz)\n",
    "#IMAGE THAT WE RECEATED FROM THE OUTPUT"
   ]
  },
  {
   "cell_type": "code",
   "execution_count": 151,
   "metadata": {},
   "outputs": [
    {
     "data": {
      "text/plain": [
       "<matplotlib.image.AxesImage at 0x7f4376124c88>"
      ]
     },
     "execution_count": 151,
     "metadata": {},
     "output_type": "execute_result"
    },
    {
     "data": {
      "image/png": "[encoded data removed]",
      "text/plain": [
       "<matplotlib.figure.Figure at 0x7f4375dbb898>"
      ]
     },
     "metadata": {},
     "output_type": "display_data"
    }
   ],
   "source": [
    "#ORIGINAL MNIST IMAGE\n",
    "q=x_train[0]\n",
    "plt.imshow(q)"
   ]
  },
  {
   "cell_type": "code",
   "execution_count": null,
   "metadata": {
    "collapsed": true
   },
   "outputs": [],
   "source": []
  },
  {
   "cell_type": "code",
   "execution_count": null,
   "metadata": {
    "collapsed": true
   },
   "outputs": [],
   "source": []
  }
 ],
 "metadata": {
  "kernelspec": {
   "display_name": "Python 3",
   "language": "python",
   "name": "python3"
  },
  "language_info": {
   "codemirror_mode": {
    "name": "ipython",
    "version": 3
   },
   "file_extension": ".py",
   "mimetype": "text/x-python",
   "name": "python",
   "nbconvert_exporter": "python",
   "pygments_lexer": "ipython3",
   "version": "3.6.3"
  }
 },
 "nbformat": 4,
 "nbformat_minor": 2
}
