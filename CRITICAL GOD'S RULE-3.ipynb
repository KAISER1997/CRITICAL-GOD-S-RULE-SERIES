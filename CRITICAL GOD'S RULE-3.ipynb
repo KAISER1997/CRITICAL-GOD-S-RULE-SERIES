{
  "nbformat": 4,
  "nbformat_minor": 0,
  "metadata": {
    "colab": {
      "name": "redoVer3.ipynb",
      "version": "0.3.2",
      "views": {},
      "default_view": {},
      "provenance": [],
      "collapsed_sections": []
    },
    "kernelspec": {
      "name": "python3",
      "display_name": "Python 3"
    },
    "accelerator": "GPU"
  },
  "cells": [
    {
      "metadata": {
        "id": "F83J9TRPA4E7",
        "colab_type": "code",
        "colab": {
          "autoexec": {
            "startup": false,
            "wait_interval": 0
          }
        }
      },
      "cell_type": "code",
      "source": [
        "import tensorflow as tf\n",
        "import numpy as np\n",
        "import matplotlib.pyplot as plt\n",
        "%matplotlib inline\n",
        "reuse=tf.AUTO_REUSE\n",
        "import keras"
      ],
      "execution_count": 0,
      "outputs": []
    },
    {
      "metadata": {
        "id": "rFELee7iNSpQ",
        "colab_type": "code",
        "colab": {
          "autoexec": {
            "startup": false,
            "wait_interval": 0
          },
          "base_uri": "https://localhost:8080/",
          "height": 68
        },
        "outputId": "640850a4-3844-4b2e-af24-61d530f3f964",
        "executionInfo": {
          "status": "ok",
          "timestamp": 1531080171359,
          "user_tz": -330,
          "elapsed": 1710,
          "user": {
            "displayName": "Aditya Prakash",
            "photoUrl": "https://lh3.googleusercontent.com/a/default-user=s128",
            "userId": "116721260718005063711"
          }
        }
      },
      "cell_type": "code",
      "source": [
        "from keras.datasets import mnist\n",
        "(x_train, y_train), (x_test, y_test) = mnist.load_data()\n",
        "print(x_train.shape)"
      ],
      "execution_count": 3,
      "outputs": [
        {
          "output_type": "stream",
          "text": [
            "Downloading data from https://s3.amazonaws.com/img-datasets/mnist.npz\n",
            "11493376/11490434 [==============================] - 0s 0us/step\n",
            "(60000, 28, 28)\n"
          ],
          "name": "stdout"
        }
      ]
    },
    {
      "metadata": {
        "id": "WktUR9QtNish",
        "colab_type": "code",
        "colab": {
          "autoexec": {
            "startup": false,
            "wait_interval": 0
          },
          "base_uri": "https://localhost:8080/",
          "height": 282
        },
        "outputId": "ffac14ea-ab9c-4f79-c690-e43a0d07268d",
        "executionInfo": {
          "status": "ok",
          "timestamp": 1531080173501,
          "user_tz": -330,
          "elapsed": 1244,
          "user": {
            "displayName": "Aditya Prakash",
            "photoUrl": "https://lh3.googleusercontent.com/a/default-user=s128",
            "userId": "116721260718005063711"
          }
        }
      },
      "cell_type": "code",
      "source": [
        "q=x_train[7]\n",
        "plt.imshow(q)"
      ],
      "execution_count": 4,
      "outputs": [
        {
          "output_type": "execute_result",
          "data": {
            "text/plain": [
              "<matplotlib.image.AxesImage at 0x7fc480e530b8>"
            ]
          },
          "metadata": {
            "tags": []
          },
          "execution_count": 4
        },
        {
          "output_type": "display_data",
          "data": {
            "image/png": "[encoded data removed]",
            "text/plain": [
              "<matplotlib.figure.Figure at 0x7fc4812f6c50>"
            ]
          },
          "metadata": {
            "tags": []
          }
        }
      ]
    },
    {
      "metadata": {
        "id": "e68jeJafNeHv",
        "colab_type": "code",
        "colab": {
          "autoexec": {
            "startup": false,
            "wait_interval": 0
          }
        }
      },
      "cell_type": "code",
      "source": [
        "def Initialize():    \n",
        "    tf.set_random_seed(1)                   \n",
        "    with tf.variable_scope(tf.get_variable_scope(),reuse=tf.AUTO_REUSE) as scope:\n",
        "        \n",
        "        W1 = tf.get_variable(\"W1\", [300,784], initializer = tf.contrib.layers.xavier_initializer(seed = 1))\n",
        "        b1 = tf.get_variable(\"b1\", [300,1], initializer = tf.zeros_initializer())\n",
        "        W2 = tf.get_variable(\"W2\", [100,300], initializer = tf.contrib.layers.xavier_initializer(seed = 1))\n",
        "        b2 = tf.get_variable(\"b2\", [100,1], initializer = tf.zeros_initializer())\n",
        "        W3 = tf.get_variable(\"W3\", [10,100], initializer = tf.contrib.layers.xavier_initializer(seed = 1))\n",
        "        b3 = tf.get_variable(\"b3\", [10,1], initializer = tf.zeros_initializer())\n",
        "    \n",
        "\n",
        "    parameters = {\"W1\": W1,\n",
        "                  \"b1\": b1,\n",
        "                  \"W2\": W2,\n",
        "                  \"b2\": b2,\n",
        "                  \"W3\": W3,\n",
        "                  \"b3\": b3}\n",
        "    \n",
        "    return parameters\n",
        "        "
      ],
      "execution_count": 0,
      "outputs": []
    },
    {
      "metadata": {
        "id": "etOXS3ZsNXnQ",
        "colab_type": "code",
        "colab": {
          "autoexec": {
            "startup": false,
            "wait_interval": 0
          }
        }
      },
      "cell_type": "code",
      "source": [
        "def costv(Z3,Y):\n",
        "    loss=tf.reduce_mean(tf.nn.softmax_cross_entropy_with_logits(logits=tf.transpose(Z3),labels=tf.transpose(Y)))\n",
        "    return(loss)"
      ],
      "execution_count": 0,
      "outputs": []
    },
    {
      "metadata": {
        "id": "GNmi0f0-NtHV",
        "colab_type": "code",
        "colab": {
          "autoexec": {
            "startup": false,
            "wait_interval": 0
          }
        }
      },
      "cell_type": "code",
      "source": [
        "def placeH(n_x,n_y):\n",
        "    X=tf.placeholder(tf.float32, [n_x,None])\n",
        "    Y=tf.placeholder(tf.float32, [n_y,None])\n",
        "    return X,Y"
      ],
      "execution_count": 0,
      "outputs": []
    },
    {
      "metadata": {
        "id": "n_sqmK5ENwjr",
        "colab_type": "code",
        "colab": {
          "autoexec": {
            "startup": false,
            "wait_interval": 0
          }
        }
      },
      "cell_type": "code",
      "source": [
        "\n",
        "def ForwardProp(X,dictw):\n",
        "    W1=dictw['W1']\n",
        "    W2=dictw['W2']\n",
        "    W3=dictw['W3']\n",
        "    b1=dictw['b1']\n",
        "    b2=dictw['b2']\n",
        "    b3=dictw['b3']\n",
        "        \n",
        "    Z1=tf.add(tf.matmul(W1,X),b1)\n",
        "    A1=tf.nn.relu(Z1)\n",
        "    Z2=tf.add(tf.matmul(W2,A1),b2)\n",
        "    A2=tf.nn.relu(Z2)\n",
        "    Z3 = tf.add(tf.matmul(W3,A2),b3)\n",
        "    return(Z3)"
      ],
      "execution_count": 0,
      "outputs": []
    },
    {
      "metadata": {
        "id": "2ELXbAQbNwsk",
        "colab_type": "code",
        "colab": {
          "autoexec": {
            "startup": false,
            "wait_interval": 0
          }
        }
      },
      "cell_type": "code",
      "source": [
        "def model(X_train, Y_train,  learning_rate = 0.001,epoch = 10, minibatch_size = 30):\n",
        "    \n",
        "    dictw=Initialize()\n",
        "    n_x,m=X_train.shape\n",
        "    n_y=Y_train.shape[0]\n",
        "    X,Y=placeH(n_x,n_y)\n",
        "    Z3=ForwardProp(X,dictw)\n",
        "    costz=costv(Z3,Y)\n",
        "    #train=  tf.train.GradientDescentOptimizer(learning_rate = learning_rate).minimize(costz)\n",
        "    train = tf.train.AdamOptimizer(1e-4).minimize(costz)\n",
        "    with tf.Session() as ss:\n",
        "        ss.run(tf.global_variables_initializer())\n",
        "        \n",
        "        for i in range(epoch):\n",
        "            r=0\n",
        "            u=m//minibatch_size\n",
        "            for v in range(u):\n",
        "                x1=X_train[:,r:r+minibatch_size]\n",
        "                y1=Y_train[:,r:r+minibatch_size]\n",
        "                r=r+minibatch_size\n",
        "                _,costl=ss.run([train,costz],feed_dict={X:x1,Y:y1})\n",
        "        print(\"parameters trained\")\n",
        "        pp=ss.run(dictw)\n",
        "        correct_prediction = tf.equal(tf.argmax(Z3), tf.argmax(Y))\n",
        "\n",
        "        \n",
        "        accuracy = tf.reduce_mean(tf.cast(correct_prediction, \"float\"))\n",
        "\n",
        "        print (\"Train Accuracy:\", accuracy.eval({X: X_train, Y: Y_train}))\n",
        "    return(pp)\n",
        "            \n",
        "        \n",
        "    "
      ],
      "execution_count": 0,
      "outputs": []
    },
    {
      "metadata": {
        "id": "clxRA1hDNwwN",
        "colab_type": "code",
        "colab": {
          "autoexec": {
            "startup": false,
            "wait_interval": 0
          },
          "base_uri": "https://localhost:8080/",
          "height": 34
        },
        "outputId": "bc789016-367b-43fa-a8e3-4bbc39cd8467",
        "executionInfo": {
          "status": "ok",
          "timestamp": 1531080191722,
          "user_tz": -330,
          "elapsed": 1439,
          "user": {
            "displayName": "Aditya Prakash",
            "photoUrl": "https://lh3.googleusercontent.com/a/default-user=s128",
            "userId": "116721260718005063711"
          }
        }
      },
      "cell_type": "code",
      "source": [
        "X_train2=x_train.reshape(60000,784)/255\n",
        "\n",
        "y_train2=np.eye(10)[y_train]\n",
        "y_trainz=np.transpose(y_train2)\n",
        "x_trainz=np.transpose(X_train2)\n",
        "print(x_trainz.shape)\n"
      ],
      "execution_count": 10,
      "outputs": [
        {
          "output_type": "stream",
          "text": [
            "(784, 60000)\n"
          ],
          "name": "stdout"
        }
      ]
    },
    {
      "metadata": {
        "id": "6JEiPCA5cuH8",
        "colab_type": "code",
        "colab": {
          "autoexec": {
            "startup": false,
            "wait_interval": 0
          },
          "base_uri": "https://localhost:8080/",
          "height": 187
        },
        "outputId": "f3caab5a-ac01-46af-92e4-3073b36160dc",
        "executionInfo": {
          "status": "ok",
          "timestamp": 1531080254300,
          "user_tz": -330,
          "elapsed": 60381,
          "user": {
            "displayName": "Aditya Prakash",
            "photoUrl": "https://lh3.googleusercontent.com/a/default-user=s128",
            "userId": "116721260718005063711"
          }
        }
      },
      "cell_type": "code",
      "source": [
        "s=model(x_trainz,y_trainz)"
      ],
      "execution_count": 11,
      "outputs": [
        {
          "output_type": "stream",
          "text": [
            "WARNING:tensorflow:From <ipython-input-6-d647b740f4b1>:2: softmax_cross_entropy_with_logits (from tensorflow.python.ops.nn_ops) is deprecated and will be removed in a future version.\n",
            "Instructions for updating:\n",
            "\n",
            "Future major versions of TensorFlow will allow gradients to flow\n",
            "into the labels input on backprop by default.\n",
            "\n",
            "See @{tf.nn.softmax_cross_entropy_with_logits_v2}.\n",
            "\n",
            "parameters trained\n",
            "Train Accuracy: 0.98691666\n"
          ],
          "name": "stdout"
        }
      ]
    },
    {
      "metadata": {
        "id": "R8DMwrqIcvW7",
        "colab_type": "code",
        "colab": {
          "autoexec": {
            "startup": false,
            "wait_interval": 0
          }
        }
      },
      "cell_type": "code",
      "source": [
        "X_test=x_test.reshape(10000,784)/255\n",
        "\n",
        "y_test2=np.eye(10)[y_test]\n",
        "y_testz=np.transpose(y_test2)\n",
        "x_testz=np.transpose(X_test)\n",
        "a,b=placeH(784,10)"
      ],
      "execution_count": 0,
      "outputs": []
    },
    {
      "metadata": {
        "id": "PM2kPVGUczfK",
        "colab_type": "code",
        "colab": {
          "autoexec": {
            "startup": false,
            "wait_interval": 0
          }
        }
      },
      "cell_type": "code",
      "source": [
        "qv=tf.Session()\n",
        "Z3=ForwardProp(a,s)\n",
        "#vt=q.run(Z3,feed_dict={a:x_testz,b:y_testz})"
      ],
      "execution_count": 0,
      "outputs": []
    },
    {
      "metadata": {
        "id": "PFjNIwUkc5Gz",
        "colab_type": "code",
        "colab": {
          "autoexec": {
            "startup": false,
            "wait_interval": 0
          },
          "base_uri": "https://localhost:8080/",
          "height": 34
        },
        "outputId": "423be908-deea-48cc-f5d1-18e2010fc649",
        "executionInfo": {
          "status": "ok",
          "timestamp": 1531080258148,
          "user_tz": -330,
          "elapsed": 1374,
          "user": {
            "displayName": "Aditya Prakash",
            "photoUrl": "https://lh3.googleusercontent.com/a/default-user=s128",
            "userId": "116721260718005063711"
          }
        }
      },
      "cell_type": "code",
      "source": [
        "correct_prediction = tf.equal(tf.argmax(Z3), tf.argmax(b))\n",
        "\n",
        "accuracy = tf.reduce_mean(tf.cast(correct_prediction, \"float\"))\n",
        "print(qv.run(accuracy,feed_dict={a:x_testz,b:y_testz}))"
      ],
      "execution_count": 14,
      "outputs": [
        {
          "output_type": "stream",
          "text": [
            "0.9726\n"
          ],
          "name": "stdout"
        }
      ]
    },
    {
      "metadata": {
        "id": "oZjTHO3Bc8Gx",
        "colab_type": "code",
        "colab": {
          "autoexec": {
            "startup": false,
            "wait_interval": 0
          }
        }
      },
      "cell_type": "code",
      "source": [
        "xxx=qv.run(Z3,feed_dict={a:x_trainz,b:y_trainz})"
      ],
      "execution_count": 0,
      "outputs": []
    },
    {
      "metadata": {
        "id": "FnRWblA4dD3B",
        "colab_type": "code",
        "colab": {
          "autoexec": {
            "startup": false,
            "wait_interval": 0
          },
          "base_uri": "https://localhost:8080/",
          "height": 34
        },
        "outputId": "6913d7fc-2e69-4bda-8882-caaa4d4a119e",
        "executionInfo": {
          "status": "ok",
          "timestamp": 1531080261408,
          "user_tz": -330,
          "elapsed": 1418,
          "user": {
            "displayName": "Aditya Prakash",
            "photoUrl": "https://lh3.googleusercontent.com/a/default-user=s128",
            "userId": "116721260718005063711"
          }
        }
      },
      "cell_type": "code",
      "source": [
        "xxx.shape"
      ],
      "execution_count": 16,
      "outputs": [
        {
          "output_type": "execute_result",
          "data": {
            "text/plain": [
              "(10, 60000)"
            ]
          },
          "metadata": {
            "tags": []
          },
          "execution_count": 16
        }
      ]
    },
    {
      "metadata": {
        "id": "_0LP5LSidD8t",
        "colab_type": "code",
        "colab": {
          "autoexec": {
            "startup": false,
            "wait_interval": 0
          }
        }
      },
      "cell_type": "code",
      "source": [
        "def Initialize2():    \n",
        "    tf.set_random_seed(1)                   \n",
        "    with tf.variable_scope(tf.get_variable_scope(),reuse=tf.AUTO_REUSE) as scope:\n",
        "        \n",
        "        zW1 = tf.get_variable(\"zW1\", [100,10], initializer = tf.contrib.layers.xavier_initializer(seed = 1))\n",
        "        zb1 = tf.get_variable(\"zb1\", [100,1], initializer = tf.zeros_initializer())\n",
        "        zW2 = tf.get_variable(\"zW2\", [300,100], initializer = tf.contrib.layers.xavier_initializer(seed = 1))\n",
        "        zb2 = tf.get_variable(\"zb2\", [300,1], initializer = tf.zeros_initializer())\n",
        "        zW3 = tf.get_variable(\"zW3\", [784,300], initializer = tf.contrib.layers.xavier_initializer(seed = 1))\n",
        "        zb3 = tf.get_variable(\"zb3\", [784,1], initializer = tf.zeros_initializer())\n",
        "    \n",
        "\n",
        "    parameters = {\"zW1\": zW1,\n",
        "                  \"zb1\": zb1,\n",
        "                  \"zW2\": zW2,\n",
        "                  \"zb2\": zb2,\n",
        "                  \"zW3\": zW3,\n",
        "                  \"zb3\": zb3}\n",
        "    \n",
        "    return parameters"
      ],
      "execution_count": 0,
      "outputs": []
    },
    {
      "metadata": {
        "id": "JtfbjXDOdNm9",
        "colab_type": "code",
        "colab": {
          "autoexec": {
            "startup": false,
            "wait_interval": 0
          }
        }
      },
      "cell_type": "code",
      "source": [
        "def loss2(Z3,Y):\n",
        "    u=Z3-Y\n",
        "    v=tf.square(u)\n",
        "    f=tf.reduce_sum(v)\n",
        "    f=f/60000\n",
        "    return f"
      ],
      "execution_count": 0,
      "outputs": []
    },
    {
      "metadata": {
        "id": "shbF1akJdNxP",
        "colab_type": "code",
        "colab": {
          "autoexec": {
            "startup": false,
            "wait_interval": 0
          }
        }
      },
      "cell_type": "code",
      "source": [
        "def ForwardProp2(X,dictw):\n",
        "    W1=dictw['zW1']\n",
        "    W2=dictw['zW2']\n",
        "    W3=dictw['zW3']\n",
        "    b1=dictw['zb1']\n",
        "    b2=dictw['zb2']\n",
        "    b3=dictw['zb3']\n",
        "        \n",
        "    Z1=tf.add(tf.matmul(W1,X),b1)\n",
        "    A1=tf.nn.relu(Z1)\n",
        "    Z2=tf.add(tf.matmul(W2,A1),b2)\n",
        "    A2=tf.nn.relu(Z2)\n",
        "    Z3 = tf.nn.relu(tf.add(tf.matmul(W3,A2),b3))\n",
        "    return(Z3)"
      ],
      "execution_count": 0,
      "outputs": []
    },
    {
      "metadata": {
        "id": "Ixr2ay_OdXta",
        "colab_type": "code",
        "colab": {
          "autoexec": {
            "startup": false,
            "wait_interval": 0
          }
        }
      },
      "cell_type": "code",
      "source": [
        "def model2(X_train, Y_train,  learning_rate = 0.001,epoch = 20, minibatch_size = 30):\n",
        "    \n",
        "    dictw=Initialize2()\n",
        "    n_x,m=X_train.shape\n",
        "    n_y=Y_train.shape[0]\n",
        "    X,Y=placeH(n_x,n_y)\n",
        "    Z3=ForwardProp2(X,dictw)\n",
        "    costz=loss2(Z3,Y)\n",
        "    #train=  tf.train.GradientDescentOptimizer(learning_rate = learning_rate).minimize(costz)\n",
        "    train = tf.train.AdamOptimizer(1e-4).minimize(costz)\n",
        "    with tf.Session() as ss:\n",
        "        ss.run(tf.global_variables_initializer())\n",
        "        \n",
        "        for i in range(epoch):\n",
        "            r=0\n",
        "            u=m//minibatch_size\n",
        "            for v in range(u):\n",
        "                x1=X_train[:,r:r+minibatch_size]\n",
        "                y1=Y_train[:,r:r+minibatch_size]\n",
        "                r=r+minibatch_size\n",
        "                _,costl=ss.run([train,costz],feed_dict={X:x1,Y:y1})\n",
        "        print(\"parameters trained\")\n",
        "        pp=ss.run(Z3,feed_dict={X:X_train,Y:Y_train})        \n",
        "    return(pp)"
      ],
      "execution_count": 0,
      "outputs": []
    },
    {
      "metadata": {
        "id": "wNpT-1-udgC8",
        "colab_type": "code",
        "colab": {
          "autoexec": {
            "startup": false,
            "wait_interval": 0
          },
          "base_uri": "https://localhost:8080/",
          "height": 34
        },
        "outputId": "a8fdd250-40be-4925-d71f-b3d4cb4d471b",
        "executionInfo": {
          "status": "ok",
          "timestamp": 1531080268086,
          "user_tz": -330,
          "elapsed": 1129,
          "user": {
            "displayName": "Aditya Prakash",
            "photoUrl": "https://lh3.googleusercontent.com/a/default-user=s128",
            "userId": "116721260718005063711"
          }
        }
      },
      "cell_type": "code",
      "source": [
        "x_testz.shape"
      ],
      "execution_count": 21,
      "outputs": [
        {
          "output_type": "execute_result",
          "data": {
            "text/plain": [
              "(784, 10000)"
            ]
          },
          "metadata": {
            "tags": []
          },
          "execution_count": 21
        }
      ]
    },
    {
      "metadata": {
        "id": "kt_9m9oBdryu",
        "colab_type": "code",
        "colab": {
          "autoexec": {
            "startup": false,
            "wait_interval": 0
          },
          "base_uri": "https://localhost:8080/",
          "height": 34
        },
        "outputId": "5cca3607-667c-456d-828e-65b01b56034a",
        "executionInfo": {
          "status": "ok",
          "timestamp": 1531080294548,
          "user_tz": -330,
          "elapsed": 26338,
          "user": {
            "displayName": "Aditya Prakash",
            "photoUrl": "https://lh3.googleusercontent.com/a/default-user=s128",
            "userId": "116721260718005063711"
          }
        }
      },
      "cell_type": "code",
      "source": [
        "opz=model2(xxx,x_trainz)"
      ],
      "execution_count": 22,
      "outputs": [
        {
          "output_type": "stream",
          "text": [
            "parameters trained\n"
          ],
          "name": "stdout"
        }
      ]
    },
    {
      "metadata": {
        "id": "8T1z_KyIdr9c",
        "colab_type": "code",
        "colab": {
          "autoexec": {
            "startup": false,
            "wait_interval": 0
          },
          "base_uri": "https://localhost:8080/",
          "height": 34
        },
        "outputId": "b6702d0d-8c24-4dfe-fb44-1c49dedf995f",
        "executionInfo": {
          "status": "ok",
          "timestamp": 1531080295811,
          "user_tz": -330,
          "elapsed": 1220,
          "user": {
            "displayName": "Aditya Prakash",
            "photoUrl": "https://lh3.googleusercontent.com/a/default-user=s128",
            "userId": "116721260718005063711"
          }
        }
      },
      "cell_type": "code",
      "source": [
        "x_trainz.shape"
      ],
      "execution_count": 23,
      "outputs": [
        {
          "output_type": "execute_result",
          "data": {
            "text/plain": [
              "(784, 60000)"
            ]
          },
          "metadata": {
            "tags": []
          },
          "execution_count": 23
        }
      ]
    },
    {
      "metadata": {
        "id": "pQE1CRYRdwiS",
        "colab_type": "code",
        "colab": {
          "autoexec": {
            "startup": false,
            "wait_interval": 0
          }
        }
      },
      "cell_type": "code",
      "source": [
        "opp=opz\n",
        "ac=opp[:,11]"
      ],
      "execution_count": 0,
      "outputs": []
    },
    {
      "metadata": {
        "id": "8H8Ltl3gd0qX",
        "colab_type": "code",
        "colab": {
          "autoexec": {
            "startup": false,
            "wait_interval": 0
          },
          "base_uri": "https://localhost:8080/",
          "height": 282
        },
        "outputId": "405cba23-83c2-4401-af6d-d1291061998b",
        "executionInfo": {
          "status": "ok",
          "timestamp": 1531080660467,
          "user_tz": -330,
          "elapsed": 1255,
          "user": {
            "displayName": "Aditya Prakash",
            "photoUrl": "https://lh3.googleusercontent.com/a/default-user=s128",
            "userId": "116721260718005063711"
          }
        }
      },
      "cell_type": "code",
      "source": [
        "u=ac.reshape(28,28)\n",
        "xz=np.abs(u)\n",
        "plt.imshow(xz)\n"
      ],
      "execution_count": 27,
      "outputs": [
        {
          "output_type": "execute_result",
          "data": {
            "text/plain": [
              "<matplotlib.image.AxesImage at 0x7fc4290f8eb8>"
            ]
          },
          "metadata": {
            "tags": []
          },
          "execution_count": 27
        },
        {
          "output_type": "display_data",
          "data": {
            "image/png": "[encoded data removed]",
            "text/plain": [
              "<matplotlib.figure.Figure at 0x7fc477448cc0>"
            ]
          },
          "metadata": {
            "tags": []
          }
        }
      ]
    },
    {
      "metadata": {
        "id": "eMTuR6PXd0x9",
        "colab_type": "code",
        "colab": {
          "autoexec": {
            "startup": false,
            "wait_interval": 0
          },
          "base_uri": "https://localhost:8080/",
          "height": 282
        },
        "outputId": "0abb50d4-ca5d-412e-d159-6fff5bb23a36",
        "executionInfo": {
          "status": "ok",
          "timestamp": 1531084750498,
          "user_tz": -330,
          "elapsed": 1299,
          "user": {
            "displayName": "Aditya Prakash",
            "photoUrl": "https://lh3.googleusercontent.com/a/default-user=s128",
            "userId": "116721260718005063711"
          }
        }
      },
      "cell_type": "code",
      "source": [
        "#ORIGINAL MNIST IMAGE\n",
        "q=x_train[0]\n",
        "plt.imshow(q)"
      ],
      "execution_count": 97,
      "outputs": [
        {
          "output_type": "execute_result",
          "data": {
            "text/plain": [
              "<matplotlib.image.AxesImage at 0x7fc3f9aa5748>"
            ]
          },
          "metadata": {
            "tags": []
          },
          "execution_count": 97
        },
        {
          "output_type": "display_data",
          "data": {
            "image/png": "[encoded data removed]",
            "text/plain": [
              "<matplotlib.figure.Figure at 0x7fc3f9c3d5f8>"
            ]
          },
          "metadata": {
            "tags": []
          }
        }
      ]
    },
    {
      "metadata": {
        "id": "gUfO-4iweJYG",
        "colab_type": "code",
        "colab": {
          "autoexec": {
            "startup": false,
            "wait_interval": 0
          }
        }
      },
      "cell_type": "code",
      "source": [
        "import math\n",
        "import numpy as np\n",
        "import h5py\n",
        "import matplotlib.pyplot as plt\n",
        "import scipy\n",
        "from PIL import Image\n",
        "from scipy import ndimage\n",
        "import tensorflow as tf\n",
        "from tensorflow.python.framework import ops\n",
        "%matplotlib inline\n",
        "np.random.seed(1)"
      ],
      "execution_count": 0,
      "outputs": []
    },
    {
      "metadata": {
        "id": "quWVo_Z-eJef",
        "colab_type": "code",
        "colab": {
          "autoexec": {
            "startup": false,
            "wait_interval": 0
          }
        }
      },
      "cell_type": "code",
      "source": [
        "def place_cnn(n_h,n_w,n_c,n_y):\n",
        "    X=tf.placeholder(dtype=tf.float32,shape=[None,n_h,n_w,n_c])\n",
        "    Y=tf.placeholder(dtype=tf.float32,shape=[None,n_y])\n",
        "    return X,Y"
      ],
      "execution_count": 0,
      "outputs": []
    },
    {
      "metadata": {
        "id": "bd6lCxyPeJkn",
        "colab_type": "code",
        "colab": {
          "autoexec": {
            "startup": false,
            "wait_interval": 0
          }
        }
      },
      "cell_type": "code",
      "source": [
        "def Initialize3():\n",
        "    tf.set_random_seed(1)                     \n",
        "    with tf.variable_scope(tf.get_variable_scope(),reuse=tf.AUTO_REUSE) as scope:     \n",
        "        W1 =tf.get_variable(\"qW1\",[4,4,1,8],initializer=tf.contrib.layers.xavier_initializer(seed = 0))\n",
        "        W2 = tf.get_variable(\"qW2\",[2,2,8,16],initializer=tf.contrib.layers.xavier_initializer(seed = 0))\n",
        "        parameters = {\"qW1\": W1,\n",
        "                  \"qW2\": W2}\n",
        "    \n",
        "    return parameters"
      ],
      "execution_count": 0,
      "outputs": []
    },
    {
      "metadata": {
        "id": "hPhySImueUvu",
        "colab_type": "code",
        "colab": {
          "autoexec": {
            "startup": false,
            "wait_interval": 0
          }
        }
      },
      "cell_type": "code",
      "source": [
        "def Forward3(X,parameters):\n",
        "    W1=parameters['qW1']\n",
        "    W2=parameters['qW2'] \n",
        "    Z1 = tf.nn.conv2d(X,W1,strides = [1,1,1,1], padding = 'SAME')\n",
        "    A1 = tf.nn.relu(Z1)\n",
        "    P1 = tf.nn.max_pool(A1, ksize = [1,4,4,1], strides = [1,1,1,1], padding = 'SAME')\n",
        "    Z2 = tf.nn.conv2d(P1,W2,strides = [1,1,1,1], padding = 'SAME')\n",
        "    A2 = tf.nn.relu(Z2)\n",
        "    P2 = tf.nn.max_pool(A2, ksize = [1,2,2,1], strides = [1,1,1,1], padding = 'SAME')\n",
        "    P2 = tf.contrib.layers.flatten(P2)\n",
        "    Z3 = tf.contrib.layers.fully_connected(P2,10,activation_fn=None)\n",
        "    return(Z3)"
      ],
      "execution_count": 0,
      "outputs": []
    },
    {
      "metadata": {
        "id": "7zhDAVkKeU0B",
        "colab_type": "code",
        "colab": {
          "autoexec": {
            "startup": false,
            "wait_interval": 0
          },
          "base_uri": "https://localhost:8080/",
          "height": 34
        },
        "outputId": "ea497f8e-0744-4485-c864-150ac02da26c",
        "executionInfo": {
          "status": "ok",
          "timestamp": 1531082553284,
          "user_tz": -330,
          "elapsed": 1551,
          "user": {
            "displayName": "Aditya Prakash",
            "photoUrl": "https://lh3.googleusercontent.com/a/default-user=s128",
            "userId": "116721260718005063711"
          }
        }
      },
      "cell_type": "code",
      "source": [
        "(x_train3, y_train3), (x_test3, y_test3) = mnist.load_data()\n",
        "print(x_train3.shape)"
      ],
      "execution_count": 59,
      "outputs": [
        {
          "output_type": "stream",
          "text": [
            "(60000, 28, 28)\n"
          ],
          "name": "stdout"
        }
      ]
    },
    {
      "metadata": {
        "id": "778M0ZVDeavV",
        "colab_type": "code",
        "colab": {
          "autoexec": {
            "startup": false,
            "wait_interval": 0
          }
        }
      },
      "cell_type": "code",
      "source": [
        "x_train3z=x_train3.reshape(60000,28,28,1)/255\n",
        "x_test3z=x_test3.reshape(10000,28,28,1)/255"
      ],
      "execution_count": 0,
      "outputs": []
    },
    {
      "metadata": {
        "id": "BKzS0lQQefDK",
        "colab_type": "code",
        "colab": {
          "autoexec": {
            "startup": false,
            "wait_interval": 0
          },
          "base_uri": "https://localhost:8080/",
          "height": 34
        },
        "outputId": "dcfde83b-dce4-44f5-88a9-2c608dcd46c2",
        "executionInfo": {
          "status": "ok",
          "timestamp": 1531082557909,
          "user_tz": -330,
          "elapsed": 1232,
          "user": {
            "displayName": "Aditya Prakash",
            "photoUrl": "https://lh3.googleusercontent.com/a/default-user=s128",
            "userId": "116721260718005063711"
          }
        }
      },
      "cell_type": "code",
      "source": [
        "y_train3z=np.eye(10)[y_train3]\n",
        "print(y_train3z.shape)\n"
      ],
      "execution_count": 61,
      "outputs": [
        {
          "output_type": "stream",
          "text": [
            "(60000, 10)\n"
          ],
          "name": "stdout"
        }
      ]
    },
    {
      "metadata": {
        "id": "ywZslFjzy02R",
        "colab_type": "code",
        "colab": {
          "autoexec": {
            "startup": false,
            "wait_interval": 0
          }
        }
      },
      "cell_type": "code",
      "source": [
        "y_test3z=np.eye(10)[y_test3]"
      ],
      "execution_count": 0,
      "outputs": []
    },
    {
      "metadata": {
        "id": "7ExvoyeCehwF",
        "colab_type": "code",
        "colab": {
          "autoexec": {
            "startup": false,
            "wait_interval": 0
          }
        }
      },
      "cell_type": "code",
      "source": [
        "def cost3(Z3,Y):\n",
        "    loss=tf.reduce_mean(tf.nn.softmax_cross_entropy_with_logits(logits=Z3,labels=Y))\n",
        "    return(loss)"
      ],
      "execution_count": 0,
      "outputs": []
    },
    {
      "metadata": {
        "id": "qyJBDIvqel6q",
        "colab_type": "code",
        "colab": {
          "autoexec": {
            "startup": false,
            "wait_interval": 0
          }
        }
      },
      "cell_type": "code",
      "source": [
        "def model3(X_train, Y_train,X_test,Y_test,learning_rate = 0.001,\n",
        "epoch = 30, minibatch_size = 30):\n",
        "    (m, n_H, n_W, n_C) = X_train.shape\n",
        "    n_y = Y_train.shape[1]     \n",
        "    parameters=Initialize3()\n",
        "    X,Y=place_cnn(n_H,n_W,n_C,n_y)\n",
        "    Z3=Forward3(X,parameters)\n",
        "    costz=cost3(Z3,Y)\n",
        "    train = tf.train.AdamOptimizer(1e-4).minimize(costz)\n",
        "    with tf.Session() as ss:\n",
        "        ss.run(tf.global_variables_initializer())       \n",
        "        for i in range(epoch):\n",
        "            print(i)\n",
        "            r=0\n",
        "            u=m//minibatch_size\n",
        "            for v in range(u):\n",
        "                x1=X_train[r:r+minibatch_size,:]\n",
        "                y1=Y_train[r:r+minibatch_size,:]\n",
        "                r=r+minibatch_size\n",
        "                _,costl=ss.run([train,costz],feed_dict={X:x1,Y:y1})\n",
        "                \n",
        "        print(\"parameters trained\")\n",
        "        predict_op = tf.argmax(Z3, 1)\n",
        "        correct_prediction = tf.equal(predict_op, tf.argmax(Y, 1))\n",
        "        \n",
        "        # Calculate accuracy on the test set\n",
        "        accuracy = tf.reduce_mean(tf.cast(correct_prediction, \"float\"))\n",
        "        print(accuracy)\n",
        "        train_accuracy = accuracy.eval({X: X_train, Y: Y_train})\n",
        "        print(\"Train Accuracy:\", train_accuracy)\n",
        "        test_accuracy = accuracy.eval({X: X_test, Y: Y_test})\n",
        "        print(\"Test Accuracy:\", test_accuracy)\n",
        "        \n",
        "        pp=ss.run(Z3,feed_dict={X:X_train,Y:Y_train}) \n",
        "    return parameters,pp"
      ],
      "execution_count": 0,
      "outputs": []
    },
    {
      "metadata": {
        "id": "bb87uVVjeqTn",
        "colab_type": "code",
        "colab": {
          "autoexec": {
            "startup": false,
            "wait_interval": 0
          },
          "base_uri": "https://localhost:8080/",
          "height": 595
        },
        "outputId": "d8d4d0dc-5f48-4553-aed6-8f731784f4b2",
        "executionInfo": {
          "status": "ok",
          "timestamp": 1531085781980,
          "user_tz": -330,
          "elapsed": 267116,
          "user": {
            "displayName": "Aditya Prakash",
            "photoUrl": "https://lh3.googleusercontent.com/a/default-user=s128",
            "userId": "116721260718005063711"
          }
        }
      },
      "cell_type": "code",
      "source": [
        "pz,Zz3=model3(x_train3z,y_train3z,x_test3z,y_test3z)"
      ],
      "execution_count": 105,
      "outputs": [
        {
          "output_type": "stream",
          "text": [
            "0\n",
            "1\n",
            "2\n",
            "3\n",
            "4\n",
            "5\n",
            "6\n",
            "7\n",
            "8\n",
            "9\n",
            "10\n",
            "11\n",
            "12\n",
            "13\n",
            "14\n",
            "15\n",
            "16\n",
            "17\n",
            "18\n",
            "19\n",
            "20\n",
            "21\n",
            "22\n",
            "23\n",
            "24\n",
            "25\n",
            "26\n",
            "27\n",
            "28\n",
            "29\n",
            "parameters trained\n",
            "Tensor(\"Mean_14:0\", shape=(), dtype=float32)\n",
            "Train Accuracy: 0.99635\n",
            "Test Accuracy: 0.9877\n"
          ],
          "name": "stdout"
        }
      ]
    },
    {
      "metadata": {
        "id": "2RwaiLnYks5f",
        "colab_type": "code",
        "colab": {
          "autoexec": {
            "startup": false,
            "wait_interval": 0
          },
          "base_uri": "https://localhost:8080/",
          "height": 34
        },
        "outputId": "fe9d05e5-8d1e-45a2-9d22-b5bfd9b8c702",
        "executionInfo": {
          "status": "ok",
          "timestamp": 1531085809408,
          "user_tz": -330,
          "elapsed": 1232,
          "user": {
            "displayName": "Aditya Prakash",
            "photoUrl": "https://lh3.googleusercontent.com/a/default-user=s128",
            "userId": "116721260718005063711"
          }
        }
      },
      "cell_type": "code",
      "source": [
        "Zz3.shape"
      ],
      "execution_count": 106,
      "outputs": [
        {
          "output_type": "execute_result",
          "data": {
            "text/plain": [
              "(60000, 10)"
            ]
          },
          "metadata": {
            "tags": []
          },
          "execution_count": 106
        }
      ]
    },
    {
      "metadata": {
        "id": "S_SrXeSOrBgo",
        "colab_type": "code",
        "colab": {
          "autoexec": {
            "startup": false,
            "wait_interval": 0
          }
        }
      },
      "cell_type": "code",
      "source": [
        "Inp1=np.transpose(Zz3)"
      ],
      "execution_count": 0,
      "outputs": []
    },
    {
      "metadata": {
        "id": "KqLf5QGkvJXZ",
        "colab_type": "code",
        "colab": {
          "autoexec": {
            "startup": false,
            "wait_interval": 0
          },
          "base_uri": "https://localhost:8080/",
          "height": 34
        },
        "outputId": "0cf784ea-fb7d-413d-8ee0-f0573050a9ca",
        "executionInfo": {
          "status": "ok",
          "timestamp": 1531085814333,
          "user_tz": -330,
          "elapsed": 1258,
          "user": {
            "displayName": "Aditya Prakash",
            "photoUrl": "https://lh3.googleusercontent.com/a/default-user=s128",
            "userId": "116721260718005063711"
          }
        }
      },
      "cell_type": "code",
      "source": [
        "x_train3.shape"
      ],
      "execution_count": 108,
      "outputs": [
        {
          "output_type": "execute_result",
          "data": {
            "text/plain": [
              "(60000, 28, 28)"
            ]
          },
          "metadata": {
            "tags": []
          },
          "execution_count": 108
        }
      ]
    },
    {
      "metadata": {
        "id": "JUYcgMRrrfX5",
        "colab_type": "code",
        "colab": {
          "autoexec": {
            "startup": false,
            "wait_interval": 0
          }
        }
      },
      "cell_type": "code",
      "source": [
        " op3=x_train3.reshape(60000,784)"
      ],
      "execution_count": 0,
      "outputs": []
    },
    {
      "metadata": {
        "id": "YPP4FGuerthE",
        "colab_type": "code",
        "colab": {
          "autoexec": {
            "startup": false,
            "wait_interval": 0
          },
          "base_uri": "https://localhost:8080/",
          "height": 34
        },
        "outputId": "0dc5946e-9a5b-449a-cd68-fef645e5a971",
        "executionInfo": {
          "status": "ok",
          "timestamp": 1531085820258,
          "user_tz": -330,
          "elapsed": 1289,
          "user": {
            "displayName": "Aditya Prakash",
            "photoUrl": "https://lh3.googleusercontent.com/a/default-user=s128",
            "userId": "116721260718005063711"
          }
        }
      },
      "cell_type": "code",
      "source": [
        "op3.shape"
      ],
      "execution_count": 110,
      "outputs": [
        {
          "output_type": "execute_result",
          "data": {
            "text/plain": [
              "(60000, 784)"
            ]
          },
          "metadata": {
            "tags": []
          },
          "execution_count": 110
        }
      ]
    },
    {
      "metadata": {
        "id": "bjN01pH7s2zH",
        "colab_type": "code",
        "colab": {
          "autoexec": {
            "startup": false,
            "wait_interval": 0
          }
        }
      },
      "cell_type": "code",
      "source": [
        "Outp1=np.transpose(op3)"
      ],
      "execution_count": 0,
      "outputs": []
    },
    {
      "metadata": {
        "id": "Qb2z41Yks-zW",
        "colab_type": "code",
        "colab": {
          "autoexec": {
            "startup": false,
            "wait_interval": 0
          },
          "base_uri": "https://localhost:8080/",
          "height": 34
        },
        "outputId": "37ac1f66-6e38-4d1b-9d0e-1b41185c8a15",
        "executionInfo": {
          "status": "ok",
          "timestamp": 1531086032204,
          "user_tz": -330,
          "elapsed": 82899,
          "user": {
            "displayName": "Aditya Prakash",
            "photoUrl": "https://lh3.googleusercontent.com/a/default-user=s128",
            "userId": "116721260718005063711"
          }
        }
      },
      "cell_type": "code",
      "source": [
        "opz3=model2(Inp1,Outp1)"
      ],
      "execution_count": 112,
      "outputs": [
        {
          "output_type": "stream",
          "text": [
            "parameters trained\n"
          ],
          "name": "stdout"
        }
      ]
    },
    {
      "metadata": {
        "id": "6SoTr29FtZC9",
        "colab_type": "code",
        "colab": {
          "autoexec": {
            "startup": false,
            "wait_interval": 0
          }
        }
      },
      "cell_type": "code",
      "source": [
        "opp3=opz3\n",
        "ac3=opp3[:,0]"
      ],
      "execution_count": 0,
      "outputs": []
    },
    {
      "metadata": {
        "id": "iF32w-g8tkcT",
        "colab_type": "code",
        "colab": {
          "autoexec": {
            "startup": false,
            "wait_interval": 0
          },
          "base_uri": "https://localhost:8080/",
          "height": 282
        },
        "outputId": "09ec94a1-b4cf-4a3d-e161-fe43bcb85bf2",
        "executionInfo": {
          "status": "ok",
          "timestamp": 1531086048852,
          "user_tz": -330,
          "elapsed": 1283,
          "user": {
            "displayName": "Aditya Prakash",
            "photoUrl": "https://lh3.googleusercontent.com/a/default-user=s128",
            "userId": "116721260718005063711"
          }
        }
      },
      "cell_type": "code",
      "source": [
        "u3=ac3.reshape(28,28)*255\n",
        "xz3=np.abs(u3)\n",
        "plt.imshow(xz3)"
      ],
      "execution_count": 114,
      "outputs": [
        {
          "output_type": "execute_result",
          "data": {
            "text/plain": [
              "<matplotlib.image.AxesImage at 0x7fc3f95dfb70>"
            ]
          },
          "metadata": {
            "tags": []
          },
          "execution_count": 114
        },
        {
          "output_type": "display_data",
          "data": {
            "image/png": "[encoded data removed]",
            "text/plain": [
              "<matplotlib.figure.Figure at 0x7fc3f962c668>"
            ]
          },
          "metadata": {
            "tags": []
          }
        }
      ]
    }
  ]
}