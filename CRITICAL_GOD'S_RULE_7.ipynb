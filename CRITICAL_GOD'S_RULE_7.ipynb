{
  "nbformat": 4,
  "nbformat_minor": 0,
  "metadata": {
    "colab": {
      "name": "CRITICAL GOD'S RULE-7.ipynb",
      "version": "0.3.2",
      "provenance": [],
      "collapsed_sections": []
    },
    "kernelspec": {
      "name": "python3",
      "display_name": "Python 3"
    },
    "accelerator": "GPU"
  },
  "cells": [
    {
      "metadata": {
        "id": "ryllC5bOTeXh",
        "colab_type": "code",
        "colab": {}
      },
      "cell_type": "code",
      "source": [
        "import numpy as np\n",
        "import tensorflow as tf"
      ],
      "execution_count": 0,
      "outputs": []
    },
    {
      "metadata": {
        "id": "QoUrs-fsT-PF",
        "colab_type": "code",
        "colab": {
          "resources": {
            "http://localhost:8080/nbextensions/google.colab/files.js": {
              "data": "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",
              "ok": true,
              "headers": [
                [
                  "content-type",
                  "application/javascript"
                ]
              ],
              "status": 200,
              "status_text": ""
            }
          },
          "base_uri": "https://localhost:8080/",
          "height": 72
        },
        "outputId": "bff452b2-22be-474f-8d92-221f3ab7d6ec"
      },
      "cell_type": "code",
      "source": [
        "from google.colab import files\n",
        "\n",
        "uploaded = files.upload()"
      ],
      "execution_count": 2,
      "outputs": [
        {
          "output_type": "display_data",
          "data": {
            "text/html": [
              "\n",
              "     <input type=\"file\" id=\"files-00242f07-56f5-40c9-bdce-9dadf5c8ab2d\" name=\"files[]\" multiple disabled />\n",
              "     <output id=\"result-00242f07-56f5-40c9-bdce-9dadf5c8ab2d\">\n",
              "      Upload widget is only available when the cell has been executed in the\n",
              "      current browser session. Please rerun this cell to enable.\n",
              "      </output>\n",
              "      <script src=\"/nbextensions/google.colab/files.js\"></script> "
            ],
            "text/plain": [
              "<IPython.core.display.HTML object>"
            ]
          },
          "metadata": {
            "tags": []
          }
        },
        {
          "output_type": "stream",
          "text": [
            "Saving dinos.txt to dinos.txt\n"
          ],
          "name": "stdout"
        }
      ]
    },
    {
      "metadata": {
        "id": "SDKcfMzqUjY3",
        "colab_type": "code",
        "colab": {
          "base_uri": "https://localhost:8080/",
          "height": 34
        },
        "outputId": "0c9f374f-ba50-42c0-9d4a-fe4be6089c25"
      },
      "cell_type": "code",
      "source": [
        "import os\n",
        "os.listdir()"
      ],
      "execution_count": 7,
      "outputs": [
        {
          "output_type": "execute_result",
          "data": {
            "text/plain": [
              "['.config', 'sample_data', 'dinos.txt']"
            ]
          },
          "metadata": {
            "tags": []
          },
          "execution_count": 7
        }
      ]
    },
    {
      "metadata": {
        "id": "lD18ro0LqIO2",
        "colab_type": "code",
        "colab": {
          "base_uri": "https://localhost:8080/",
          "height": 54
        },
        "outputId": "f0a85bfe-9218-4e23-f3ee-d7aca68f0004"
      },
      "cell_type": "code",
      "source": [
        "import requests, sys\n",
        " \n",
        "server = \"https://rest.ensembl.org\"\n",
        "ext = \"/sequence/id/ENSG00000102882?\"\n",
        " \n",
        "r = requests.get(server+ext, headers={ \"Content-Type\" : \"text/plain\"})\n",
        " \n",
        "if not r.ok:\n",
        "  r.raise_for_status()\n",
        "  sys.exit()\n",
        " \n",
        " \n",
        "print(r.text)\n"
      ],
      "execution_count": 5,
      "outputs": [
        {
          "output_type": "stream",
          "text": [
            "ACGCCCTGGCCGCTTCGCCATCGAGGGGAGGGTGAGGACAGTCTCCGAGGCGGCGCTGCCGAACCTCCCGGTGACCTGGAGGCCGCGGAGCCCGCAGGGACCCATGGCCCCCGAACCTGGGGCAAGAAGGGCGGGCGCGCGCGGGGCGGGTCACGTGACAGCTCCAGGCCCACGCGGGGCCGGGGCAAGGGCGGGGCCTGGCGCGCGCGGCCCTGCGGGTGACAGGCAGGCGGGAAGGGGCGGGGCCTCGGGCGGGGCCGCCGTGGGGAGGAGGGCGGTGGGAGGGGAGGAGTGGAGATGGCGGCGGCGGCGGCTCAGGGGGGCGGGGGCGGGGAGCCCCGTAGAACCGAGGGGGTCGGCCCGGGGGTCCCGGGGGAGGTGGAGATGGTGAAGGGGCAGCCGTTCGACGTGGGCCCGCGCTACACGCAGTTGCAGTACATCGGCGAGGGCGCGTACGGCATGGTCAGGTGAGGGGGCGTTCCGGGGGAGGGGGTGCCCTCAGGGGAGGGGGCTTCGCGGGAGAGGAGGAGGAGGCGCCGAGCGCTTTCCGGGACGTGGAGACGCGGAGCGTCCCGAGGAGGCAGGAGACTCGGGATGATCGGGAGCGTCCCAGGGAGGGGGCCCCTGAGTGCTTTCTGGGGGAGGGGGCGCTGCCTACGTCCTCAGGGGAGCAGGCTTGGAGGCTTTGAGTCCACCCTTCTGTAATGATGGGAGGGGCATCCGAGTGCATGTGGGGGCCCGCGGGGACCCTAGTGACACGGGGCGAGGCCCAGAGGATGAGTACTCTCGGGGAGGCGACATCCTTAGTGAAGAGGCAGTGGAGGGCCCGTTTTGGGGGAAAGGGTGTCTTGGATTCCCCCTGTGAGGCAGTGCCAGGGAGCCTGGGGGAGAAGAGCCGAGATCAGGGTGGGGCAGGGCTTTGGCCCCACCACCCCAGGGGCCCAGAGAGAGATGAGGCGGCCAGGAGTGCCACCTGCATGTTTTGGGAGGGGTCTGTGAGTGCCCCCGGCCCCACCGTGTGCTCTGGGCCTCTATCCCTCTGGGACAGCCCCGCTGCCCGGATCCCTCACCCTGGGACCCTCCCCTGCCCTGTCCATTCTCTCCTGCCCCTCCCCTGGCTGCCACCTTCCCAGTATTTGCCCCATGGTGTGTCCCCAGCATCTGCACCCCCGGACCTGTCTTGGGTTAAGGAGCCTTTCCTGGGAATGGGGGCGAAGGGTTCAGGGCCAGTAGAATGGAAGGGGATTGAGGAGAGGGGAAGTCAGTGAGCGGTCAGTCTCTTCCTCTGTTTGTAAAGTCACCGAAGGGCCGCCTGGCTGGTCCCCAGCTTTCTCTCTGGAGATCCCAGGCCTCCACAGCAGGAAGGAACCAGCATTGTTTATGATTTGACCAGAGCCAGCTCCTGCTCTCTCCCCTCCCTGCCAAGGCCTGGGTGGGGCCACCAGGCCCGGACTCCCCCTTTGTAAGGCCACAGCAGCAGCCTCTCTCCGGTCCCCTCAGCTCGGCCTATGACCACGTGCGCAAGACTCGCGTGGCCATCAAGAAGATCAGCCCCTTCGAACATCAGACCTACTGCCAGCGCACGCTCCGGGAGATCCAGATCCTGCTGCGCTTCCGCCATGAGAATGTCATCGGCATCCGAGACATTCTGCGGGCGTCCACCCTGGAAGCCATGAGAGATGTGTATCCTTCACCTTGGCCAGTCGGCTGGTCAGGCACGGCCTCGCAGCTGGGCTGGGGACCCGTTGCTTGGTTTCTGTTTCCATCTTACCCACCACCCTCCAAAACAAACCCAGTAAAATAAACTTTCCTGCAGAGGGGAAGCCACAGTGTAACAGGACTTGGAGACCTCTGATGAACCCAGGCCTGCAGCGGCCCAGGCAGTATGGCCTCGAGCAAGTGGGTTCTCTGCTCTGTGCCCCAGGGGGAAGGGCTAGGCAGGATGGTCTCTATGGGAGTGGTGTCTTCTGACGTCGGCAGTTCTGAGACATGACCTGGCCTCTGCCCACAGTCACTTCTTGCTAAGGAATGGATGATTCTTTCCTCTCTTTCCTCCTTGCCCAGACCGGAAGGGAGACAGGGAGAAAGAAAACTGTCAGCTGGGCGTGGTGGCTCACGCCTGTAATCCCAGCACTTTGGGAGGCTGAGGTGGGAGATTACCTGAGGTCAGTAGTTGGAGACCAGCCTGGCCAACATGGTTAAACCCCATCTCTACTAAAAATACAAAAAAATTAGCGGGGCATGGTGGTGCAAGCCTGTAATCCCAGCTACTTGGGAGGCAGAGGTAGGAGAATCGCTTGAACCCAGGAGCTGGAGGTTGCAGTGAGCCAAGATCGTGCCACTGCACTCCAGCCTGGGTGACAGAGCGAGACTCTGTCTCAAAACTAAACAAAAACAAAAAACTGCCTTTCTTGAGGGCCTGCTGTGTGTCAGGTACTATACATGCCCAATGCTTTTTTTTTTCTATTACACCTCCCAACTACCCTATGAGATGGGCTTTTCAGCTTCATTTCAAAGATGAGGGGTGGAGTGCAATGGCTCACATCTGTAGTCCCAACACTTTGGGAGGCTAAGACCAGAGGATCACTGGAGGCCAGGAGTTCAAGACCAGCCTGGGCAGCATAGTGAGACCCCACCTCTACAAAAAATTTAAAAATTATCCAGGTTTGGTGGTACACGACTATAGTCCCAGCTACTTGGGAGGCTGAGGCAGGAGGATGGCTTGAGCTTAGGAGTTCGAGGCTGCAGTGAGCTATGATTGTGCTACTGCACTCTAGCCTGGGGGACAGAGCGTGACCCTGTCAAAAAAAAAAAAAAAAAAAAAGATGAGGAAGCTAAGGCTCAGAAAACCTAAAATCAAGTGTTTCTGTTGCTGTCTCCTCCTCTCCTCCCCCAGATGGGAACTTGTCCTTCTTCTTAGGACTTCTCACTCAGAGCCACACCCTAATCACCTGTGGACTTGCACCTTGCCCAGGGAGGGACAGCCTAGCCTTGGCTGTCCTCCCCCAATACTGCTTTCCTAGTTTGCTGTCCACTTCCTGTCTGGCTCTCCTTAGCAACTTATGACACCTGTCACTTCTTCCCTGCCCCACCCACCCACTCTCAGTCCCAGCCCTCCACCCAAGAGTGGGGATTTGTACTGAGGTGTCTGCAACCCCCACCACAAACTGTGGACAGGAAATCTCCGTGCTCACCCCCAGCTCGCTGTGTGATCTGAAGCAAGTCACTGCGTCTCGCTGGGCCTCCCCAGCCCTAAAACAGCAGGGCTGGTCCACATATTCTCTGAAGACCCTTTCAAGGCTGATTCTTGTTTTCTTTGTTTTTTGTTTGTTTGTTTTTAGATGGAGTCTCCCTCTGTTGCCCAGGCTAGAGTGCAGTGGCTCAATCTCAGCTCACGGCAACCTCCACCTCCCAGGTTCAAGCTATTCTCCTGCCTCAGCCTTCCAAGTAGCTGGGACTACAGGCGCCTGCCACCACGCCCGGCTAATTTTTGTATTTTCAGTAGATGCGGGGTTTCGCCCTGTTCACCAGGCTGGCGTCAAACTCCTGACCTCAGGTCATCAACCCACCTTGGCCTCCTGAAGAGCTGGGATTACAGGCATGAGCCACCATGCCTGGTCTCAAGGCAGATTCTAAAAGACAGCCCTGACTTATTTTTCTAGAGACAAGCCAAACAGCATTTGTGGATTTATTTATTTATTTACGCATAAGCTTTTTTGTATCTTCAAATAGAAAAAGACATTTTACTCCTCCATCTTCTGAGGTATGGCCAAGCACTCTCCTTTGAGTGGGAGTGTGCTGTTGGGAGTGTCTCCTCATTTTTCTTGCACAAACCATTCCCATAAGGCAGGCATTTATTTTTAAGCAAACATTTATTGCATGCCAGATGGTGTTCATACATTATCTCATTTAACTCCCTCAACAGCCATGTGACTCAGGCATTCATATTAGTAATAATAGTTCATGTTTGCCTAGCACTCACAACTTGCCAAGCACTGGGCTGACAGCTTTACATGCGCCATCTCATCTAGTCTTCACAACCACCCTCAAAAGAACCATTATTTCATGGCTTGCACCTGTAATTTCCAGCACTTTGGGAGGCCGAGGTGGAAGGAACACTTGAACCCATGAGTTCAAGACCTGCCTGGGCAACAGAGCAAGAGCCCATCTCCACAAAAAGAAAACAAACAAACAAACAAAAAAACATTATTTCCCCTACATACCAGATGAGAAAGTTGAGGCACAGACAGGTTGAGATCCTAAAGCCAGTGAGTAGTAGAGAGGAGATTTCAGACATCCATGGGTTAACTCCAGAGTTGCTGCTCTTTTTGTAGGTTTTTTTTTTTTTTTAATTTATTTATTTTTGAGACAGAGTCTCACTCTGTCATCCGGGCTGCAGTGCAGTGACACAATCTTGGCTCACTGCAACATCTGCCTCCTGGGTTCAAGTGATTCTCGTGCTGCAGCCTCCTGAGTAGCTGGGATTACAGGCACATGCCGCCGTGCCCAGTTAATTTTGCTATTTTTAGTAGAGACAGGGTTTTGCCATGTTGCCCAGGCTGGTGGTCTCAAACTCCTGGCCTCAAGCAGTCCTCCCGCCTCAGCCTCCCAAAGTGCTGGGATTACAGGTGTGAGCCACCACTCCTGGCCCAAGTTGCTGCTCTTAACTGTGAAGTTCTCCTGCCTCCCACAGTTTATTATTATCCCCGTTTCCCCGGTAGGGAAACTGAGGCCTCAGAAATGAAGCCCCTTGCTCAGGATCAGCAACTGTGATGCAACAGAGGCTCAGAGCCCTGCCGCTGGGTAATGGCAGCAGCTTCCCCAGCTGGTGGTGCAGGTTGGCAGATCTATTGAGTCCCAGGGGCCCTGGCTGGAGGAGGTGTGCAGCCTCGCCTTCAGAGCCTGTTTTCCTTAACCAAGTGCCTCCCACTGCCCCCTGCCTGGGGGGGTCTGCGGAACCATCCTCAGCTACATTGTGCAGGACCTGATGGAGACTGACCTGTACAAGTTGCTGAAAAGCCAGCAGCTGAGCAATGACCATATCTGCTACTTCCTCTACCAGATCCTGCGGGGCCTCAAGTACATCCACTCCGCCAACGTGCTCCACCGAGATCTAAAGCCCTCCAACCTGCTCATCAACACCACCTGCGACCTTAAGGTCAGAGGGTTGGGCACCTGTCCCCTCCTCCCCCAGGGTCTGGGGCTTCCAGTGACCAGTAGAAGAAGCCTTGGGCAGGAGAACATTGCAAGCAAAGGGAACAGTGGAGGCAAAGACAAGGGGGCGTGACTGCTTAGGCTGCAGAGGCCTTGAGCGCCGAGCTTAGCAGCTAGGTCTGATTCCAGATTTGTGATTTCGGCCTGGCCCGGATTGCCGATCCTGAGCATGACCACACCGGCTTCCTGACGGAGTATGTGGCTACGCGCTGGTACCGGGCCCCAGAGATCATGCTGAACTCCAAGGTAGGAGGGGCTGCCCACTCCTGAAAGGAACGGACCAGTTCCCAGGAAGCCCTGGAGCTACCTCTGAGCCAGACACTGACCCCCATGACACAGGAATTCTACCCTCTGGGCCTTGGGCTCTGCAAGGAAGCTGAGCATTGAGCCCTCCAGGCCTCTGCCTTCTGCCTGGTGTTGGATCTAACTTGGAGGTGGTGGCCTGGCGCAGACAACAGGACCCTGTTGAGGCTGGCCCAGGAGCTCACCACTTCCTCCTCTCCCCCAGGGCTATACCAAGTCCATCGACATCTGGTCTGTGGGCTGCATTCTGGCTGAGATGCTCTCTAACCGGCCCATCTTCCCTGGCAAGCACTACCTGGATCAGCTCAACCACATTCTGGGTGAGGGAGGCCCGGCTGGCTGAGTTGGGGATGATTAGCTTTTCCGAGGTGAGATTTCTCGAGAGTCCAAGTCAGGGATACCACCACGTGTGGGGTGCCTCCAGCATCTCATGGTATCTCAATGAGGTATAGATATTATCCCCATTGGATAGATGGGAAAAGCAAGGCTAAGTCCCACACCTGAGGAGGCACCAGACCTAGGATTTGAGCCTCGGTCTGCCTGAACCCAGCCCCCTTGCTCTGCACCACCATGCTAATGACTAGGAGGTGACTGAGGGATTGGCATGGGTTGCTGGGCTGGGGGGTCTTGTTCTTGCCTTGTTGCCTATTCTGTTCCCAGAAAGAAAGAGGTGATCATTTACCAAGTCACCTCCTTATCCACAGGCATCCTGGGCTCCCCATCCCAGGAGGACCTGAATTGTATCATCAACATGAAGGCCCGAAACTACCTACAGTCTCTGCCCTCCAAGACCAAGGTGGCTTGGGCCAAGCTTTTCCCCAAGTCAGACTCCAAAGGTTCGAGAGACATGAGGGTGGGTGTGGGATAAACCTTGGGTGTCGTGGAGGGTGTGTGAGCCCAGCAGCCGCTGGAGGAGACAGGCAAAGCAATGCTTCTCGGAGCTCCTCCAGTCTTCCCTGTGACCCCTGACTCCTGCCCTTCCATAGCCCTTGACCTGCTGGACCGGATGTTAACCTTTAACCCCAATAAACGGATCACAGTGGAGGAAGCGCTGGCTCACCCCTACCTGGAGCAGTACTATGACCCGACGGATGAGGTGGGCCAGTCCCCAGCAGCAGTGGGGCTGGGGGCAGGGGAGCAGGGGGGCACGTAGGCATCCCCCATGCCAGGCCTGAGCCTTGCTGTCTCTACCACCCCAGCCAGTGGCCGAGGAGCCCTTCACCTTCGCCATGGAGCTGGATGACCTACCTAAGGAGCGGCTGAAGGAGCTCATCTTCCAGGAGACAGCACGCTTCCAGCCCGGAGTGCTGGAGGCCCCCTAGCCCAGACAGACATCTCTGCACCCTGGGGCCTGGTGAGTGTCTCCATGGCCCACACATGGACACCCTGATACTAAATATCTATATCTGTATATCTATATCTATATCTATCTGTACATGCCTCCATACAGCAGCAAGCTTACCCCACACCCATGGTCAATGTGTCTGGTGACAACAGAAGTGCCCAGGGGGCTGGGTGTGGTGGCTCATGCCTGGAATCCCAGCACTTTGGGAGACTGAGACTGAGAGGAGTGGATCACCTGAGGGTCAGGAGTTTGAGACCAGCCTGGCCTGCATGGTGAAATCCCATCTATACTAAAAATACAAAAATTAGCCGGGCACAGTGGGTCACTCTGGTAATCCCAGCACTTTGGGAGGCTGAGGCAAGTGGATCACCTGAGGTCAGGAGTCCGAGACCAGCCTGCCTGGCCAACGTGGTGAAACCCTGTCTCTACTAAAAATACAAAAATTAGCCGGGCACGTAGGCATGCGCTTCTAGTCCCAGCTACTCAGGAGGCTGTGGTGGGAGGACTGCTTGAACCTGGGAGGCGGAGGTTGCACCACTGTACTCCAGCCTGGGCAACAGTGAGACTCTCTCAAAAAAAAAAAAAAAAGGGCTGGGCACAGTGGCTCATGCCTGTAATCCCAGCACTTTGGGAGGCCGAGGTGGGTGGATCACAAGGTCAAGAGTTGAGACCAGCCTGGCCAACATGGTGAAACCCGGTCTCTACTGTAAAGAATACAAAAATGAGCTGGGTGTGGTGGCACATGCCTATAATCCCAGCTACTCAGGAGGCTGAGGCAGGAGAATTGCTTGAACCCAGGAGGCAGAGGTTGCAGTGAGCCGAGATCGCACCACTGCACTCCAGCCTGGACTACAGAGCAAGACTCCATCTCAAAAAAAAAAAAAAAAATGCCCAAGGCTGCCCAGACTGGTGGCCCACCGAGTCCTCCAGCCCCAAATGTCTCTGCCTGTCAACACCTTGCATCCTCCAGCCCCACAAGCCATTCTAATCTCCTTCTAGGAACAGAACTGGCAAAGAGGCAAGAGGTCACTGAGGGCCTCTGTCACCCAGGTGAGGACCTGAGCCAAGCTTCAGCTCTGGGTGTGGCAGAAGCAGGTGGGGCCATGATTGCTTTGGGAGGGGCCCAGCAGCGCCCAGCCTGACCCAGATTGCCAGGCCTCCTCACACCTGCTGCCAGATCAGCAGTTCACATAGCTGTGGGGACCCCACTGGCCTGCCCCCACCCACGCTGCCTCCTTGCCTCCTCCGGTCTCTTCCTGTCTTCAGCCAGGTGTGGCCTGATAGAAAGAAGGCATGCGCACCTGGGCTCAAACTCCAGCTGTGCCACTTAGTAAGTGCTGTGTGATATTGGGCAAGGCACCTCACCTCTCGGCGCCTCAGTTTCCGGAGTCAATCTATTTATCTTTTTTTTTGGTTTTGTTTTTTTGAGACAGTGTCTCGCTCTGTCACCCAGGCTGGAATGCAGTGGTGCAATCATAGCTCACTGCAGCCTCAAAACTCCTGGGTGCAAGGGATCCTCCCAGCTAGCTGGACGAGCCATTGCAACCGGCTAATTTTTTTTTTTTTTTTTTGTGGAGCTGGGGTCTTGCTATGTTGCCCAGGCCAGTCTCAAACTCCTGGGCTCAAGCGATCCACCACCTCAGCTTCTCAAAGTGCTGGGATTATAGGCGTGAGCCACTGTGCCCGGCCGAGACAGTTCTAATAATGAAAGCATAAAGCCCTAAGCATTGTTCTAAGAGGTTTACATGTATTAATTCCTTTAATCTTACAGCAGTACCTCAAGCTAGGTACTATTATTATCTCCATTTACAGATAAGGAAACTGAGACCCAGCCTATCCAGCTGTGAGGGTGAAATGAGAGATGTTGAGGTCAGGGCTCCAGTGGGTCTGCCCGGGGGGTGCTAACGACTCCTCTTCTGCCTGCTTCTCTCTTTAGGACCTGCCTCCTGCCTGCCCCTCTCCCGCCAGACTGTTAGAAAATGGACACTGTGCCCAGCCCGGACCTTGGCAGCCCAGGCCGGGGTGGAGCATGGGCCTGGCCACCTCTCTCCTTTGCTGAGGCCTCCAGCTTCAGGCAGGCCAAGGCCTTCTCCTCCCCACCCGCCCTCCCCACGGGGCCTCGGGACCTCAGGTGGCCCCAGTTCAATCTCCCGCTGCTGCTGCTGCGCCCTTACCTTCCCCAGCGTCCCAGTCTCTGGCAGTTCTGGAATGGAAGGGTTCTGGCTGCCCCAACCTGCTGAAGGGCAGAGGTGGAGGGTGGGGGGCGCTGAGTAGGGACTCAGGGCCATGCCTGCCCCCCTCATCTCATTCAAACCCCACCCTAGTTTCCCTGAAGGAACATTCCTTAGTCTCAAGGGCTAGCATCCCTGAGGAGCCAGGCCGGGCCGAATCCCCTCCCTGTCAAAGCTGTCACTTCGCGTGCCCTCGCTGCTTCTGTGTGTGGTGAGCAGAAGTGGAGCTGGGGGGCGTGGAGAGCCCGGCGCCCCTGCCACCTCCCTGACCCGTCTAATATATAAATATAGAGATGTGTCTATGGCTGA\n"
          ],
          "name": "stdout"
        }
      ]
    },
    {
      "metadata": {
        "id": "slXOHX-I4AiR",
        "colab_type": "code",
        "colab": {}
      },
      "cell_type": "code",
      "source": [
        "actv_layer=100\n",
        "vocab_len=27"
      ],
      "execution_count": 0,
      "outputs": []
    },
    {
      "metadata": {
        "id": "i0L-lk6qUpLR",
        "colab_type": "code",
        "colab": {}
      },
      "cell_type": "code",
      "source": [
        "data = open('dinos.txt', 'r').read()\n",
        " \n",
        "data= data.lower()\n",
        "chars = list(set(data))\n",
        "data_size, vocab_size = len(data), len(chars)"
      ],
      "execution_count": 0,
      "outputs": []
    },
    {
      "metadata": {
        "id": "fl7vc7fHYca8",
        "colab_type": "code",
        "colab": {}
      },
      "cell_type": "code",
      "source": [
        "with open('dinos.txt') as f:\n",
        "    t=[word.lower() for line in f for word in line.split()]"
      ],
      "execution_count": 0,
      "outputs": []
    },
    {
      "metadata": {
        "id": "VmfOj1EisVAF",
        "colab_type": "code",
        "colab": {
          "base_uri": "https://localhost:8080/",
          "height": 34
        },
        "outputId": "c187efae-a8cd-4da5-a66b-c434615c818f"
      },
      "cell_type": "code",
      "source": [
        "example=np.array(t)\n",
        "example.shape\n"
      ],
      "execution_count": 76,
      "outputs": [
        {
          "output_type": "execute_result",
          "data": {
            "text/plain": [
              "(1536,)"
            ]
          },
          "metadata": {
            "tags": []
          },
          "execution_count": 76
        }
      ]
    },
    {
      "metadata": {
        "id": "zclvBDM4ZnbX",
        "colab_type": "code",
        "colab": {}
      },
      "cell_type": "code",
      "source": [
        "word=np.array(t)\n",
        "word.shape\n",
        "vocab_len=27"
      ],
      "execution_count": 0,
      "outputs": []
    },
    {
      "metadata": {
        "id": "rLGfV1H3YtAW",
        "colab_type": "code",
        "colab": {}
      },
      "cell_type": "code",
      "source": [
        "x_place=tf.placeholder(tf.float32,shape=[vocab_len,30])\n",
        "y_place=tf.placeholder(tf.int32,shape=[1,30])\n",
        "actv_zero=tf.placeholder(tf.float32,shape=[100,1])\n"
      ],
      "execution_count": 0,
      "outputs": []
    },
    {
      "metadata": {
        "id": "wGwwiueS5aQL",
        "colab_type": "code",
        "colab": {}
      },
      "cell_type": "code",
      "source": [
        " lc=30"
      ],
      "execution_count": 0,
      "outputs": []
    },
    {
      "metadata": {
        "id": "5dDGoco2xPDd",
        "colab_type": "code",
        "colab": {
          "base_uri": "https://localhost:8080/",
          "height": 34
        },
        "outputId": "2b78a8fd-9f75-4447-8304-6f1e25541156"
      },
      "cell_type": "code",
      "source": [
        "char_to_ix = { ch:i for i,ch in enumerate(sorted(chars)) }\n",
        "ix_to_char = { i:ch for i,ch in enumerate(sorted(chars)) }\n",
        "print(ix_to_char)"
      ],
      "execution_count": 79,
      "outputs": [
        {
          "output_type": "stream",
          "text": [
            "{0: '\\n', 1: 'a', 2: 'b', 3: 'c', 4: 'd', 5: 'e', 6: 'f', 7: 'g', 8: 'h', 9: 'i', 10: 'j', 11: 'k', 12: 'l', 13: 'm', 14: 'n', 15: 'o', 16: 'p', 17: 'q', 18: 'r', 19: 's', 20: 't', 21: 'u', 22: 'v', 23: 'w', 24: 'x', 25: 'y', 26: 'z'}\n"
          ],
          "name": "stdout"
        }
      ]
    },
    {
      "metadata": {
        "id": "CwT7lotKFCTR",
        "colab_type": "code",
        "colab": {}
      },
      "cell_type": "code",
      "source": [
        ""
      ],
      "execution_count": 0,
      "outputs": []
    },
    {
      "metadata": {
        "id": "9SPm0nXEz45u",
        "colab_type": "code",
        "colab": {}
      },
      "cell_type": "code",
      "source": [
        "Waa=tf.Variable(np.random.rand(actv_layer,actv_layer),dtype=tf.float32)\n",
        "baa=tf.Variable(np.zeros((actv_layer,1)),dtype=tf.float32)\n",
        "Wax=tf.Variable(np.random.rand(actv_layer,vocab_len),dtype=tf.float32)\n",
        "bax=tf.Variable(np.zeros((actv_layer,1)),dtype=tf.float32)\n",
        "Wy=tf.Variable(np.random.rand(vocab_len,actv_layer),dtype=tf.float32)\n",
        "by=tf.Variable(np.zeros((vocab_len,1)),dtype=tf.float32)\n",
        "parameters={\"Waa\":Waa, \"Wax\":Wax,\"Wy\":Wy,\"baa\":baa,\"by\":by,\"bax\":bax}"
      ],
      "execution_count": 0,
      "outputs": []
    },
    {
      "metadata": {
        "id": "nD_u7_1q4RYJ",
        "colab_type": "code",
        "colab": {
          "base_uri": "https://localhost:8080/",
          "height": 529
        },
        "outputId": "6129e4f1-be91-479d-ca39-6e3d3f67f7b9"
      },
      "cell_type": "code",
      "source": [
        "\n",
        "partitions = tf.range(30)\n",
        "num_partitions = 30\n",
        "x_li = tf.unstack(x_place,axis=1)\n",
        "y_li = tf.unstack(y_place,axis=1)\n",
        "x_li\n",
        "\n",
        " "
      ],
      "execution_count": 81,
      "outputs": [
        {
          "output_type": "execute_result",
          "data": {
            "text/plain": [
              "[<tf.Tensor 'unstack_2:0' shape=(27,) dtype=float32>,\n",
              " <tf.Tensor 'unstack_2:1' shape=(27,) dtype=float32>,\n",
              " <tf.Tensor 'unstack_2:2' shape=(27,) dtype=float32>,\n",
              " <tf.Tensor 'unstack_2:3' shape=(27,) dtype=float32>,\n",
              " <tf.Tensor 'unstack_2:4' shape=(27,) dtype=float32>,\n",
              " <tf.Tensor 'unstack_2:5' shape=(27,) dtype=float32>,\n",
              " <tf.Tensor 'unstack_2:6' shape=(27,) dtype=float32>,\n",
              " <tf.Tensor 'unstack_2:7' shape=(27,) dtype=float32>,\n",
              " <tf.Tensor 'unstack_2:8' shape=(27,) dtype=float32>,\n",
              " <tf.Tensor 'unstack_2:9' shape=(27,) dtype=float32>,\n",
              " <tf.Tensor 'unstack_2:10' shape=(27,) dtype=float32>,\n",
              " <tf.Tensor 'unstack_2:11' shape=(27,) dtype=float32>,\n",
              " <tf.Tensor 'unstack_2:12' shape=(27,) dtype=float32>,\n",
              " <tf.Tensor 'unstack_2:13' shape=(27,) dtype=float32>,\n",
              " <tf.Tensor 'unstack_2:14' shape=(27,) dtype=float32>,\n",
              " <tf.Tensor 'unstack_2:15' shape=(27,) dtype=float32>,\n",
              " <tf.Tensor 'unstack_2:16' shape=(27,) dtype=float32>,\n",
              " <tf.Tensor 'unstack_2:17' shape=(27,) dtype=float32>,\n",
              " <tf.Tensor 'unstack_2:18' shape=(27,) dtype=float32>,\n",
              " <tf.Tensor 'unstack_2:19' shape=(27,) dtype=float32>,\n",
              " <tf.Tensor 'unstack_2:20' shape=(27,) dtype=float32>,\n",
              " <tf.Tensor 'unstack_2:21' shape=(27,) dtype=float32>,\n",
              " <tf.Tensor 'unstack_2:22' shape=(27,) dtype=float32>,\n",
              " <tf.Tensor 'unstack_2:23' shape=(27,) dtype=float32>,\n",
              " <tf.Tensor 'unstack_2:24' shape=(27,) dtype=float32>,\n",
              " <tf.Tensor 'unstack_2:25' shape=(27,) dtype=float32>,\n",
              " <tf.Tensor 'unstack_2:26' shape=(27,) dtype=float32>,\n",
              " <tf.Tensor 'unstack_2:27' shape=(27,) dtype=float32>,\n",
              " <tf.Tensor 'unstack_2:28' shape=(27,) dtype=float32>,\n",
              " <tf.Tensor 'unstack_2:29' shape=(27,) dtype=float32>]"
            ]
          },
          "metadata": {
            "tags": []
          },
          "execution_count": 81
        }
      ]
    },
    {
      "metadata": {
        "id": "jcR-B3ui8sUx",
        "colab_type": "code",
        "colab": {
          "base_uri": "https://localhost:8080/",
          "height": 51
        },
        "outputId": "9ee81a56-4c32-4397-d450-a6d00ead4289"
      },
      "cell_type": "code",
      "source": [
        "x_li\n",
        "x_list=x_li\n",
        " \n",
        "y_list=[tf.reshape(i,[1]) for i in y_li]\n",
        "xv=tf.stack(x_list, axis=1)\n",
        "yv=tf.stack(y_list, axis=1)\n",
        "print(xv)\n",
        "xv2=tf.reduce_sum(xv,0)\n",
        "print(xv2)\n",
        "yv=tf.reshape(yv,[30])\n",
        "lk=tf.one_hot(yv,27,axis=-1)\n",
        "xv2=tf.sign(xv2)#mask 30,0\n",
        "dN=tf.reduce_sum(xv2)"
      ],
      "execution_count": 82,
      "outputs": [
        {
          "output_type": "stream",
          "text": [
            "Tensor(\"stack_19:0\", shape=(27, 30), dtype=float32)\n",
            "Tensor(\"Sum_20:0\", shape=(30,), dtype=float32)\n"
          ],
          "name": "stdout"
        }
      ]
    },
    {
      "metadata": {
        "id": "D38NQ6zb9tSN",
        "colab_type": "code",
        "colab": {}
      },
      "cell_type": "code",
      "source": [
        "a_prev=actv_zero\n",
        "states=[]\n",
        "gg=[]\n",
        "for x_i in x_list:\n",
        "  x_i=tf.reshape(x_i,[27,1])\n",
        "  Zx=tf.matmul(Wax,x_i)+bax\n",
        "  Za=tf.matmul(Waa,a_prev)+baa\n",
        "  gg.append(Zx)\n",
        "  a_prev=tf.tanh(Zx+Za)\n",
        "  states.append(a_prev)\n"
      ],
      "execution_count": 0,
      "outputs": []
    },
    {
      "metadata": {
        "id": "iA-2wrn1BdkM",
        "colab_type": "code",
        "colab": {
          "base_uri": "https://localhost:8080/",
          "height": 71
        },
        "outputId": "36bd959c-a684-4240-ef2f-d2c94c5604c7"
      },
      "cell_type": "code",
      "source": [
        "print(states[0])\n",
        "logit_series=[tf.nn.softmax(tf.reshape(tf.transpose(tf.matmul(Wy,i)+by),[27]),axis=0) for i in states]\n",
        "print(logit_series)\n",
        "    "
      ],
      "execution_count": 84,
      "outputs": [
        {
          "output_type": "stream",
          "text": [
            "Tensor(\"Tanh_60:0\", shape=(100, 1), dtype=float32)\n",
            "[<tf.Tensor 'Reshape_583:0' shape=(27,) dtype=float32>, <tf.Tensor 'Reshape_586:0' shape=(27,) dtype=float32>, <tf.Tensor 'Reshape_589:0' shape=(27,) dtype=float32>, <tf.Tensor 'Reshape_592:0' shape=(27,) dtype=float32>, <tf.Tensor 'Reshape_595:0' shape=(27,) dtype=float32>, <tf.Tensor 'Reshape_598:0' shape=(27,) dtype=float32>, <tf.Tensor 'Reshape_601:0' shape=(27,) dtype=float32>, <tf.Tensor 'Reshape_604:0' shape=(27,) dtype=float32>, <tf.Tensor 'Reshape_607:0' shape=(27,) dtype=float32>, <tf.Tensor 'Reshape_610:0' shape=(27,) dtype=float32>, <tf.Tensor 'Reshape_613:0' shape=(27,) dtype=float32>, <tf.Tensor 'Reshape_616:0' shape=(27,) dtype=float32>, <tf.Tensor 'Reshape_619:0' shape=(27,) dtype=float32>, <tf.Tensor 'Reshape_622:0' shape=(27,) dtype=float32>, <tf.Tensor 'Reshape_625:0' shape=(27,) dtype=float32>, <tf.Tensor 'Reshape_628:0' shape=(27,) dtype=float32>, <tf.Tensor 'Reshape_631:0' shape=(27,) dtype=float32>, <tf.Tensor 'Reshape_634:0' shape=(27,) dtype=float32>, <tf.Tensor 'Reshape_637:0' shape=(27,) dtype=float32>, <tf.Tensor 'Reshape_640:0' shape=(27,) dtype=float32>, <tf.Tensor 'Reshape_643:0' shape=(27,) dtype=float32>, <tf.Tensor 'Reshape_646:0' shape=(27,) dtype=float32>, <tf.Tensor 'Reshape_649:0' shape=(27,) dtype=float32>, <tf.Tensor 'Reshape_652:0' shape=(27,) dtype=float32>, <tf.Tensor 'Reshape_655:0' shape=(27,) dtype=float32>, <tf.Tensor 'Reshape_658:0' shape=(27,) dtype=float32>, <tf.Tensor 'Reshape_661:0' shape=(27,) dtype=float32>, <tf.Tensor 'Reshape_664:0' shape=(27,) dtype=float32>, <tf.Tensor 'Reshape_667:0' shape=(27,) dtype=float32>, <tf.Tensor 'Reshape_670:0' shape=(27,) dtype=float32>]\n"
          ],
          "name": "stdout"
        }
      ]
    },
    {
      "metadata": {
        "id": "wDoX12xD5c-T",
        "colab_type": "code",
        "colab": {
          "base_uri": "https://localhost:8080/",
          "height": 34
        },
        "outputId": "dbab8a15-19f8-4478-d217-30eb3896eb70"
      },
      "cell_type": "code",
      "source": [
        "yu=tf.stack(logit_series)\n",
        "\n",
        "yu #output 30,27"
      ],
      "execution_count": 85,
      "outputs": [
        {
          "output_type": "execute_result",
          "data": {
            "text/plain": [
              "<tf.Tensor 'stack_21:0' shape=(30, 27) dtype=float32>"
            ]
          },
          "metadata": {
            "tags": []
          },
          "execution_count": 85
        }
      ]
    },
    {
      "metadata": {
        "id": "dVRVw-7wXC_J",
        "colab_type": "code",
        "colab": {
          "base_uri": "https://localhost:8080/",
          "height": 34
        },
        "outputId": "ad2bdc40-880b-44f4-d850-bfd914fd4244"
      },
      "cell_type": "code",
      "source": [
        "losses=(-(tf.log(yu)*lk))\n",
        "losses "
      ],
      "execution_count": 86,
      "outputs": [
        {
          "output_type": "execute_result",
          "data": {
            "text/plain": [
              "<tf.Tensor 'Neg_2:0' shape=(30, 27) dtype=float32>"
            ]
          },
          "metadata": {
            "tags": []
          },
          "execution_count": 86
        }
      ]
    },
    {
      "metadata": {
        "id": "c_kfIJg0qZM-",
        "colab_type": "code",
        "colab": {
          "base_uri": "https://localhost:8080/",
          "height": 34
        },
        "outputId": "177eb03c-1424-46f3-9034-67fd8f02b27f"
      },
      "cell_type": "code",
      "source": [
        "loss_Vector=tf.reduce_sum(losses,1)\n",
        "loss_Vector\n",
        "total_lossV=xv2*loss_Vector\n",
        "total_lossV#(30,1)\n",
        "total_loss=tf.reduce_sum(total_lossV)/dN  #net loss per word\n",
        "total_loss"
      ],
      "execution_count": 87,
      "outputs": [
        {
          "output_type": "execute_result",
          "data": {
            "text/plain": [
              "<tf.Tensor 'truediv_2:0' shape=() dtype=float32>"
            ]
          },
          "metadata": {
            "tags": []
          },
          "execution_count": 87
        }
      ]
    },
    {
      "metadata": {
        "id": "92ThMpbFoli1",
        "colab_type": "code",
        "colab": {}
      },
      "cell_type": "code",
      "source": [
        "train_step=tf.train.AdagradOptimizer(0.1).minimize(total_loss)"
      ],
      "execution_count": 0,
      "outputs": []
    },
    {
      "metadata": {
        "id": "APd2-ZR9o1yn",
        "colab_type": "code",
        "colab": {}
      },
      "cell_type": "code",
      "source": [
        "X = np.array([None] + [char_to_ix[ch] for ch in example[1]])\n",
        "Y = np.array(X[1:] + [char_to_ix[\"\\n\"]])"
      ],
      "execution_count": 0,
      "outputs": []
    },
    {
      "metadata": {
        "id": "wrl4QMmCzGTO",
        "colab_type": "code",
        "colab": {
          "base_uri": "https://localhost:8080/",
          "height": 34
        },
        "outputId": "e499742a-8d87-4f98-d599-d26446124f43"
      },
      "cell_type": "code",
      "source": [
        "X"
      ],
      "execution_count": 90,
      "outputs": [
        {
          "output_type": "execute_result",
          "data": {
            "text/plain": [
              "array([None, 1, 1, 18, 4, 15, 14, 25, 24], dtype=object)"
            ]
          },
          "metadata": {
            "tags": []
          },
          "execution_count": 90
        }
      ]
    },
    {
      "metadata": {
        "id": "fQ-t2YYYd7GY",
        "colab_type": "code",
        "colab": {}
      },
      "cell_type": "code",
      "source": [
        "zy=np.zeros((1),dtype=int)\n",
        "np.append(Y, zy,axis=0)\n",
        "zx=np.zeros((1,27),dtype=int)\n",
        " "
      ],
      "execution_count": 0,
      "outputs": []
    },
    {
      "metadata": {
        "id": "jz08oD_ft4YI",
        "colab_type": "code",
        "colab": {
          "base_uri": "https://localhost:8080/",
          "height": 34
        },
        "outputId": "0091dfa2-f04f-481b-868c-a9ddad0ef1e9"
      },
      "cell_type": "code",
      "source": [
        "\n",
        "b = np.zeros((X.shape[0], 27))\n",
        "b.shape\n",
        "for i in range(X.shape[0]-1):\n",
        "  b[i+1][X[i+1]]=1\n",
        "b.shape\n",
        "g=np.append(b,zx,axis=0)\n",
        "b.shape"
      ],
      "execution_count": 92,
      "outputs": [
        {
          "output_type": "execute_result",
          "data": {
            "text/plain": [
              "(9, 27)"
            ]
          },
          "metadata": {
            "tags": []
          },
          "execution_count": 92
        }
      ]
    },
    {
      "metadata": {
        "id": "Pfve6cc6Gt2x",
        "colab_type": "code",
        "colab": {}
      },
      "cell_type": "code",
      "source": [
        "def softmax(zx):\n",
        "    e_x = np.exp(zx - np.max(zx))\n",
        "    return e_x / e_x.sum(axis=0)"
      ],
      "execution_count": 0,
      "outputs": []
    },
    {
      "metadata": {
        "id": "lPxOKlaI9ZsE",
        "colab_type": "code",
        "colab": {}
      },
      "cell_type": "code",
      "source": [
        "def sample(zparameters, seed):\n",
        "   \n",
        "    zWaa, zWax, zWy, zby, zbaa,zbax = zparameters['Waa'], zparameters['Wax'], zparameters['Wy'], zparameters['by'], zparameters['baa'],zparameters['bax']\n",
        "    vocab_size = zby.shape[0]\n",
        "    n_a = zWaa.shape[1]\n",
        "    zx = np.zeros((vocab_size,1))\n",
        "    za_prev = np.zeros((100,1))\n",
        "    \n",
        "    indices = []\n",
        "    idx = -1 \n",
        "\n",
        "    counter = 0\n",
        "    newline_character = char_to_ix['\\n']\n",
        "    \n",
        "    while (idx != newline_character and counter != 50):\n",
        "      \n",
        "        za = np.tanh(np.dot(zWaa,za_prev)+np.dot(zWax,zx)+zbaa+zbax)\n",
        "        zz = np.dot(zWy,za)+zby\n",
        "        zy = softmax(zz)\n",
        "        np.random.seed(counter+seed) \n",
        "        idx = np.random.choice(list(range(vocab_size)), p = zy.ravel())\n",
        "\n",
        "        indices.append(idx)\n",
        "        zx = np.zeros((vocab_size,1))\n",
        "        zx[idx] = 1\n",
        "        za_prev = za\n",
        "        \n",
        "        seed += 1\n",
        "        counter +=1\n",
        "    if (counter == 50):\n",
        "        indices.append(char_to_ix['\\n'])\n",
        "    \n",
        "    return indices"
      ],
      "execution_count": 0,
      "outputs": []
    },
    {
      "metadata": {
        "id": "PTocQQ6OHzeJ",
        "colab_type": "code",
        "colab": {}
      },
      "cell_type": "code",
      "source": [
        "def print_sample(sample_ix):\n",
        "    txt = ''.join(ix_to_char[ix] for ix in sample_ix)\n",
        "    txt = txt[0].upper() + txt[1:]  # capitalize first character \n",
        "    print ('%s' % (txt, ), end='')"
      ],
      "execution_count": 0,
      "outputs": []
    },
    {
      "metadata": {
        "id": "5Y9F6B3LfnMd",
        "colab_type": "code",
        "colab": {}
      },
      "cell_type": "code",
      "source": [
        "\n",
        "with tf.Session() as  ss:\n",
        "  ss.run(tf.initialize_all_variables())\n",
        "  for i in range(100):\n",
        "    nf=0\n",
        "    qq=0\n",
        "    print(i)\n",
        "    s=0\n",
        "    for t in example:\n",
        "      s=s+1\n",
        "      zcurrent_state = np.zeros((100, 1))\n",
        "      X = np.array([None] + [char_to_ix[ch] for ch in t])\n",
        "      Y = np.array(X[1:] + [char_to_ix[\"\\n\"]])\n",
        "      zy=np.zeros((30-Y.shape[0]),dtype=int)\n",
        "      Y=np.append(Y, zy,axis=0)\n",
        "      zx=np.zeros((30-X.shape[0],27),dtype=int)\n",
        "      \n",
        "      Y=np.transpose(Y).reshape(1,Y.shape[0])\n",
        "      b = np.zeros((X.shape[0], 27))\n",
        "\n",
        "      for ii in range(X.shape[0]-1):\n",
        "         b[ii+1][X[ii+1]]=1\n",
        "      for ii in range(27):\n",
        "         b[0][ii]=1\n",
        "      #print(X.shape)\n",
        "      b=np.append(b,zx,axis=0)\n",
        "      #print(t)\n",
        "      cost,_,lv=ss.run([total_loss,train_step,parameters],feed_dict={x_place:np.transpose(b) ,y_place:(Y),actv_zero:zcurrent_state})\n",
        "      qq=qq+cost\n",
        "      if(s%100==0):\n",
        "        print(qq)\n",
        "        sampled_indices =sample(lv,1)\n",
        "        print_sample(sampled_indices)\n",
        "        seed=1\n",
        "        for name in range(5):\n",
        "                sampled_indices =sample(lv,seed)\n",
        "                print_sample(sampled_indices)\n",
        "                seed=seed+1\n",
        "        qq=0\n",
        "      nf=nf+cost\n",
        "      #print(lv)\n",
        "    #print(nf)\n",
        "      \n",
        "         \n",
        "              \n",
        "    \n",
        "    \n",
        "  "
      ],
      "execution_count": 0,
      "outputs": []
    },
    {
      "metadata": {
        "id": "jR7_IwBt8JMH",
        "colab_type": "code",
        "colab": {}
      },
      "cell_type": "code",
      "source": [
        ""
      ],
      "execution_count": 0,
      "outputs": []
    }
  ]
}